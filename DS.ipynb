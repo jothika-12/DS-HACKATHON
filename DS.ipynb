{
  "cells": [
    {
      "cell_type": "markdown",
      "metadata": {
        "id": "view-in-github",
        "colab_type": "text"
      },
      "source": [
        "<a href=\"https://colab.research.google.com/github/jothika-12/DS-HACKATHON/blob/ds-file/DS.ipynb\" target=\"_parent\"><img src=\"https://colab.research.google.com/assets/colab-badge.svg\" alt=\"Open In Colab\"/></a>"
      ]
    },
    {
      "cell_type": "code",
      "execution_count": null,
      "metadata": {
        "id": "htsiOpl8gPwb"
      },
      "outputs": [],
      "source": [
        "import numpy as np\n",
        "import pandas as pd\n",
        "import matplotlib.pyplot as plt\n",
        "import  seaborn as sns\n",
        "import tensorflow as tf\n",
        "from tensorflow import keras"
      ]
    },
    {
      "cell_type": "code",
      "execution_count": null,
      "metadata": {
        "id": "1omTZWr1gh0a"
      },
      "outputs": [],
      "source": [
        "train = pd.read_csv(\"/content/C&T train dataset.csv\")\n",
        "test = pd.read_csv(\"/content/C&T test dataset.csv\")"
      ]
    },
    {
      "cell_type": "code",
      "execution_count": null,
      "metadata": {
        "colab": {
          "base_uri": "https://localhost:8080/"
        },
        "id": "BRht8iUcgxn4",
        "outputId": "fc2068ce-3687-42c9-ef08-f835d4cc9c85"
      },
      "outputs": [
        {
          "data": {
            "text/plain": [
              "(800, 21)"
            ]
          },
          "execution_count": 3,
          "metadata": {},
          "output_type": "execute_result"
        }
      ],
      "source": [
        "train.shape"
      ]
    },
    {
      "cell_type": "code",
      "execution_count": null,
      "metadata": {
        "colab": {
          "base_uri": "https://localhost:8080/"
        },
        "id": "Gua5PBMfg0tT",
        "outputId": "f89bf0a4-d3ac-4b49-bc53-65af619f5c78"
      },
      "outputs": [
        {
          "data": {
            "text/plain": [
              "(200, 20)"
            ]
          },
          "execution_count": 4,
          "metadata": {},
          "output_type": "execute_result"
        }
      ],
      "source": [
        "test.shape"
      ]
    },
    {
      "cell_type": "code",
      "execution_count": 72,
      "metadata": {
        "colab": {
          "base_uri": "https://localhost:8080/"
        },
        "id": "y7X49f3tg3e1",
        "outputId": "30bc14c1-09a6-4350-b61e-436efee279e9"
      },
      "outputs": [
        {
          "output_type": "stream",
          "name": "stdout",
          "text": [
            "<class 'pandas.core.frame.DataFrame'>\n",
            "RangeIndex: 800 entries, 0 to 799\n",
            "Data columns (total 21 columns):\n",
            " #   Column            Non-Null Count  Dtype  \n",
            "---  ------            --------------  -----  \n",
            " 0   sno               800 non-null    int64  \n",
            " 1   acc_info          800 non-null    int64  \n",
            " 2   duration_month    800 non-null    float64\n",
            " 3   credit_history    800 non-null    int64  \n",
            " 4   purpose           800 non-null    int64  \n",
            " 5   savings_acc       800 non-null    int64  \n",
            " 6   employment_st     800 non-null    int64  \n",
            " 7   poi               800 non-null    object \n",
            " 8   personal_status   800 non-null    int64  \n",
            " 9   gurantors         800 non-null    object \n",
            " 10  resident_since    800 non-null    int64  \n",
            " 11  property_type     800 non-null    int64  \n",
            " 12  age               800 non-null    float64\n",
            " 13  installment_type  800 non-null    int64  \n",
            " 14  housing_type      800 non-null    object \n",
            " 15  credits_no        800 non-null    float64\n",
            " 16  job_type          800 non-null    int64  \n",
            " 17  liables           800 non-null    float64\n",
            " 18  telephone         800 non-null    int64  \n",
            " 19  foreigner         800 non-null    int64  \n",
            " 20  Group_no          800 non-null    int64  \n",
            "dtypes: float64(4), int64(14), object(3)\n",
            "memory usage: 131.4+ KB\n"
          ]
        }
      ],
      "source": [
        "train.info()"
      ]
    },
    {
      "cell_type": "code",
      "execution_count": null,
      "metadata": {
        "colab": {
          "base_uri": "https://localhost:8080/"
        },
        "id": "DXp0OXDog6Wg",
        "outputId": "96e194c3-7fef-491e-dd5a-d6664f04160c"
      },
      "outputs": [
        {
          "name": "stdout",
          "output_type": "stream",
          "text": [
            "<class 'pandas.core.frame.DataFrame'>\n",
            "RangeIndex: 200 entries, 0 to 199\n",
            "Data columns (total 20 columns):\n",
            " #   Column            Non-Null Count  Dtype  \n",
            "---  ------            --------------  -----  \n",
            " 0   sno               200 non-null    int64  \n",
            " 1   acc_info          200 non-null    object \n",
            " 2   duration_month    200 non-null    int64  \n",
            " 3   credit_history    200 non-null    object \n",
            " 4   purpose           200 non-null    object \n",
            " 5   savings_acc       200 non-null    object \n",
            " 6   employment_st     195 non-null    object \n",
            " 7   poi               195 non-null    float64\n",
            " 8   personal_status   200 non-null    object \n",
            " 9   gurantors         200 non-null    object \n",
            " 10  resident_since    200 non-null    int64  \n",
            " 11  property_type     200 non-null    object \n",
            " 12  age               198 non-null    float64\n",
            " 13  installment_type  200 non-null    object \n",
            " 14  housing_type      192 non-null    object \n",
            " 15  credits_no        200 non-null    int64  \n",
            " 16  job_type          200 non-null    object \n",
            " 17  liables           200 non-null    int64  \n",
            " 18  telephone         200 non-null    object \n",
            " 19  foreigner         200 non-null    object \n",
            "dtypes: float64(2), int64(5), object(13)\n",
            "memory usage: 31.4+ KB\n"
          ]
        }
      ],
      "source": [
        "test.info()"
      ]
    },
    {
      "cell_type": "code",
      "execution_count": null,
      "metadata": {
        "colab": {
          "base_uri": "https://localhost:8080/",
          "height": 300
        },
        "id": "8xbLKx9Yg9IN",
        "outputId": "b2cc6747-26e4-4d2a-a62f-1676a04b3492"
      },
      "outputs": [
        {
          "data": {
            "application/vnd.google.colaboratory.intrinsic+json": {
              "summary": "{\n  \"name\": \"train\",\n  \"rows\": 8,\n  \"fields\": [\n    {\n      \"column\": \"sno\",\n      \"properties\": {\n        \"dtype\": \"number\",\n        \"std\": 288.0191378976687,\n        \"min\": 1.0,\n        \"max\": 800.0,\n        \"num_unique_values\": 6,\n        \"samples\": [\n          800.0,\n          400.5,\n          600.25\n        ],\n        \"semantic_type\": \"\",\n        \"description\": \"\"\n      }\n    },\n    {\n      \"column\": \"duration_month\",\n      \"properties\": {\n        \"dtype\": \"number\",\n        \"std\": 275.40708613459736,\n        \"min\": 4.0,\n        \"max\": 800.0,\n        \"num_unique_values\": 8,\n        \"samples\": [\n          20.65125,\n          18.0,\n          800.0\n        ],\n        \"semantic_type\": \"\",\n        \"description\": \"\"\n      }\n    },\n    {\n      \"column\": \"poi\",\n      \"properties\": {\n        \"dtype\": \"number\",\n        \"std\": 277.6892514389592,\n        \"min\": 1.0,\n        \"max\": 788.0,\n        \"num_unique_values\": 7,\n        \"samples\": [\n          788.0,\n          2.950507614213198,\n          3.0\n        ],\n        \"semantic_type\": \"\",\n        \"description\": \"\"\n      }\n    },\n    {\n      \"column\": \"resident_since\",\n      \"properties\": {\n        \"dtype\": \"number\",\n        \"std\": 281.9385481232659,\n        \"min\": 1.0,\n        \"max\": 800.0,\n        \"num_unique_values\": 7,\n        \"samples\": [\n          800.0,\n          2.84125,\n          3.0\n        ],\n        \"semantic_type\": \"\",\n        \"description\": \"\"\n      }\n    },\n    {\n      \"column\": \"age\",\n      \"properties\": {\n        \"dtype\": \"number\",\n        \"std\": 269.87576694936064,\n        \"min\": 11.499100608876287,\n        \"max\": 796.0,\n        \"num_unique_values\": 8,\n        \"samples\": [\n          35.40829145728643,\n          33.0,\n          796.0\n        ],\n        \"semantic_type\": \"\",\n        \"description\": \"\"\n      }\n    },\n    {\n      \"column\": \"credits_no\",\n      \"properties\": {\n        \"dtype\": \"number\",\n        \"std\": 282.29089296705416,\n        \"min\": 0.5697734108174874,\n        \"max\": 800.0,\n        \"num_unique_values\": 6,\n        \"samples\": [\n          800.0,\n          1.39625,\n          4.0\n        ],\n        \"semantic_type\": \"\",\n        \"description\": \"\"\n      }\n    },\n    {\n      \"column\": \"liables\",\n      \"properties\": {\n        \"dtype\": \"number\",\n        \"std\": 282.4641423384467,\n        \"min\": 0.35482548725818724,\n        \"max\": 800.0,\n        \"num_unique_values\": 5,\n        \"samples\": [\n          1.1475,\n          2.0,\n          0.35482548725818724\n        ],\n        \"semantic_type\": \"\",\n        \"description\": \"\"\n      }\n    },\n    {\n      \"column\": \"Group_no\",\n      \"properties\": {\n        \"dtype\": \"number\",\n        \"std\": 282.1458404425811,\n        \"min\": 0.7440618068854105,\n        \"max\": 800.0,\n        \"num_unique_values\": 6,\n        \"samples\": [\n          800.0,\n          2.07625,\n          3.0\n        ],\n        \"semantic_type\": \"\",\n        \"description\": \"\"\n      }\n    }\n  ]\n}",
              "type": "dataframe"
            },
            "text/html": [
              "\n",
              "  <div id=\"df-46b28e77-3df6-4627-a8bc-b54457f15c39\" class=\"colab-df-container\">\n",
              "    <div>\n",
              "<style scoped>\n",
              "    .dataframe tbody tr th:only-of-type {\n",
              "        vertical-align: middle;\n",
              "    }\n",
              "\n",
              "    .dataframe tbody tr th {\n",
              "        vertical-align: top;\n",
              "    }\n",
              "\n",
              "    .dataframe thead th {\n",
              "        text-align: right;\n",
              "    }\n",
              "</style>\n",
              "<table border=\"1\" class=\"dataframe\">\n",
              "  <thead>\n",
              "    <tr style=\"text-align: right;\">\n",
              "      <th></th>\n",
              "      <th>sno</th>\n",
              "      <th>duration_month</th>\n",
              "      <th>poi</th>\n",
              "      <th>resident_since</th>\n",
              "      <th>age</th>\n",
              "      <th>credits_no</th>\n",
              "      <th>liables</th>\n",
              "      <th>Group_no</th>\n",
              "    </tr>\n",
              "  </thead>\n",
              "  <tbody>\n",
              "    <tr>\n",
              "      <th>count</th>\n",
              "      <td>800.0000</td>\n",
              "      <td>800.00000</td>\n",
              "      <td>788.000000</td>\n",
              "      <td>800.000000</td>\n",
              "      <td>796.000000</td>\n",
              "      <td>800.000000</td>\n",
              "      <td>800.000000</td>\n",
              "      <td>800.000000</td>\n",
              "    </tr>\n",
              "    <tr>\n",
              "      <th>mean</th>\n",
              "      <td>400.5000</td>\n",
              "      <td>20.65125</td>\n",
              "      <td>2.950508</td>\n",
              "      <td>2.841250</td>\n",
              "      <td>35.408291</td>\n",
              "      <td>1.396250</td>\n",
              "      <td>1.147500</td>\n",
              "      <td>2.076250</td>\n",
              "    </tr>\n",
              "    <tr>\n",
              "      <th>std</th>\n",
              "      <td>231.0844</td>\n",
              "      <td>12.15635</td>\n",
              "      <td>1.130084</td>\n",
              "      <td>1.106833</td>\n",
              "      <td>11.499101</td>\n",
              "      <td>0.569773</td>\n",
              "      <td>0.354825</td>\n",
              "      <td>0.744062</td>\n",
              "    </tr>\n",
              "    <tr>\n",
              "      <th>min</th>\n",
              "      <td>1.0000</td>\n",
              "      <td>4.00000</td>\n",
              "      <td>1.000000</td>\n",
              "      <td>1.000000</td>\n",
              "      <td>19.000000</td>\n",
              "      <td>1.000000</td>\n",
              "      <td>1.000000</td>\n",
              "      <td>1.000000</td>\n",
              "    </tr>\n",
              "    <tr>\n",
              "      <th>25%</th>\n",
              "      <td>200.7500</td>\n",
              "      <td>12.00000</td>\n",
              "      <td>2.000000</td>\n",
              "      <td>2.000000</td>\n",
              "      <td>27.000000</td>\n",
              "      <td>1.000000</td>\n",
              "      <td>1.000000</td>\n",
              "      <td>2.000000</td>\n",
              "    </tr>\n",
              "    <tr>\n",
              "      <th>50%</th>\n",
              "      <td>400.5000</td>\n",
              "      <td>18.00000</td>\n",
              "      <td>3.000000</td>\n",
              "      <td>3.000000</td>\n",
              "      <td>33.000000</td>\n",
              "      <td>1.000000</td>\n",
              "      <td>1.000000</td>\n",
              "      <td>2.000000</td>\n",
              "    </tr>\n",
              "    <tr>\n",
              "      <th>75%</th>\n",
              "      <td>600.2500</td>\n",
              "      <td>24.00000</td>\n",
              "      <td>4.000000</td>\n",
              "      <td>4.000000</td>\n",
              "      <td>41.000000</td>\n",
              "      <td>2.000000</td>\n",
              "      <td>1.000000</td>\n",
              "      <td>3.000000</td>\n",
              "    </tr>\n",
              "    <tr>\n",
              "      <th>max</th>\n",
              "      <td>800.0000</td>\n",
              "      <td>72.00000</td>\n",
              "      <td>4.000000</td>\n",
              "      <td>4.000000</td>\n",
              "      <td>75.000000</td>\n",
              "      <td>4.000000</td>\n",
              "      <td>2.000000</td>\n",
              "      <td>3.000000</td>\n",
              "    </tr>\n",
              "  </tbody>\n",
              "</table>\n",
              "</div>\n",
              "    <div class=\"colab-df-buttons\">\n",
              "\n",
              "  <div class=\"colab-df-container\">\n",
              "    <button class=\"colab-df-convert\" onclick=\"convertToInteractive('df-46b28e77-3df6-4627-a8bc-b54457f15c39')\"\n",
              "            title=\"Convert this dataframe to an interactive table.\"\n",
              "            style=\"display:none;\">\n",
              "\n",
              "  <svg xmlns=\"http://www.w3.org/2000/svg\" height=\"24px\" viewBox=\"0 -960 960 960\">\n",
              "    <path d=\"M120-120v-720h720v720H120Zm60-500h600v-160H180v160Zm220 220h160v-160H400v160Zm0 220h160v-160H400v160ZM180-400h160v-160H180v160Zm440 0h160v-160H620v160ZM180-180h160v-160H180v160Zm440 0h160v-160H620v160Z\"/>\n",
              "  </svg>\n",
              "    </button>\n",
              "\n",
              "  <style>\n",
              "    .colab-df-container {\n",
              "      display:flex;\n",
              "      gap: 12px;\n",
              "    }\n",
              "\n",
              "    .colab-df-convert {\n",
              "      background-color: #E8F0FE;\n",
              "      border: none;\n",
              "      border-radius: 50%;\n",
              "      cursor: pointer;\n",
              "      display: none;\n",
              "      fill: #1967D2;\n",
              "      height: 32px;\n",
              "      padding: 0 0 0 0;\n",
              "      width: 32px;\n",
              "    }\n",
              "\n",
              "    .colab-df-convert:hover {\n",
              "      background-color: #E2EBFA;\n",
              "      box-shadow: 0px 1px 2px rgba(60, 64, 67, 0.3), 0px 1px 3px 1px rgba(60, 64, 67, 0.15);\n",
              "      fill: #174EA6;\n",
              "    }\n",
              "\n",
              "    .colab-df-buttons div {\n",
              "      margin-bottom: 4px;\n",
              "    }\n",
              "\n",
              "    [theme=dark] .colab-df-convert {\n",
              "      background-color: #3B4455;\n",
              "      fill: #D2E3FC;\n",
              "    }\n",
              "\n",
              "    [theme=dark] .colab-df-convert:hover {\n",
              "      background-color: #434B5C;\n",
              "      box-shadow: 0px 1px 3px 1px rgba(0, 0, 0, 0.15);\n",
              "      filter: drop-shadow(0px 1px 2px rgba(0, 0, 0, 0.3));\n",
              "      fill: #FFFFFF;\n",
              "    }\n",
              "  </style>\n",
              "\n",
              "    <script>\n",
              "      const buttonEl =\n",
              "        document.querySelector('#df-46b28e77-3df6-4627-a8bc-b54457f15c39 button.colab-df-convert');\n",
              "      buttonEl.style.display =\n",
              "        google.colab.kernel.accessAllowed ? 'block' : 'none';\n",
              "\n",
              "      async function convertToInteractive(key) {\n",
              "        const element = document.querySelector('#df-46b28e77-3df6-4627-a8bc-b54457f15c39');\n",
              "        const dataTable =\n",
              "          await google.colab.kernel.invokeFunction('convertToInteractive',\n",
              "                                                    [key], {});\n",
              "        if (!dataTable) return;\n",
              "\n",
              "        const docLinkHtml = 'Like what you see? Visit the ' +\n",
              "          '<a target=\"_blank\" href=https://colab.research.google.com/notebooks/data_table.ipynb>data table notebook</a>'\n",
              "          + ' to learn more about interactive tables.';\n",
              "        element.innerHTML = '';\n",
              "        dataTable['output_type'] = 'display_data';\n",
              "        await google.colab.output.renderOutput(dataTable, element);\n",
              "        const docLink = document.createElement('div');\n",
              "        docLink.innerHTML = docLinkHtml;\n",
              "        element.appendChild(docLink);\n",
              "      }\n",
              "    </script>\n",
              "  </div>\n",
              "\n",
              "\n",
              "<div id=\"df-f29521ba-9f7e-49a7-bd1f-04c0a21a7396\">\n",
              "  <button class=\"colab-df-quickchart\" onclick=\"quickchart('df-f29521ba-9f7e-49a7-bd1f-04c0a21a7396')\"\n",
              "            title=\"Suggest charts\"\n",
              "            style=\"display:none;\">\n",
              "\n",
              "<svg xmlns=\"http://www.w3.org/2000/svg\" height=\"24px\"viewBox=\"0 0 24 24\"\n",
              "     width=\"24px\">\n",
              "    <g>\n",
              "        <path d=\"M19 3H5c-1.1 0-2 .9-2 2v14c0 1.1.9 2 2 2h14c1.1 0 2-.9 2-2V5c0-1.1-.9-2-2-2zM9 17H7v-7h2v7zm4 0h-2V7h2v10zm4 0h-2v-4h2v4z\"/>\n",
              "    </g>\n",
              "</svg>\n",
              "  </button>\n",
              "\n",
              "<style>\n",
              "  .colab-df-quickchart {\n",
              "      --bg-color: #E8F0FE;\n",
              "      --fill-color: #1967D2;\n",
              "      --hover-bg-color: #E2EBFA;\n",
              "      --hover-fill-color: #174EA6;\n",
              "      --disabled-fill-color: #AAA;\n",
              "      --disabled-bg-color: #DDD;\n",
              "  }\n",
              "\n",
              "  [theme=dark] .colab-df-quickchart {\n",
              "      --bg-color: #3B4455;\n",
              "      --fill-color: #D2E3FC;\n",
              "      --hover-bg-color: #434B5C;\n",
              "      --hover-fill-color: #FFFFFF;\n",
              "      --disabled-bg-color: #3B4455;\n",
              "      --disabled-fill-color: #666;\n",
              "  }\n",
              "\n",
              "  .colab-df-quickchart {\n",
              "    background-color: var(--bg-color);\n",
              "    border: none;\n",
              "    border-radius: 50%;\n",
              "    cursor: pointer;\n",
              "    display: none;\n",
              "    fill: var(--fill-color);\n",
              "    height: 32px;\n",
              "    padding: 0;\n",
              "    width: 32px;\n",
              "  }\n",
              "\n",
              "  .colab-df-quickchart:hover {\n",
              "    background-color: var(--hover-bg-color);\n",
              "    box-shadow: 0 1px 2px rgba(60, 64, 67, 0.3), 0 1px 3px 1px rgba(60, 64, 67, 0.15);\n",
              "    fill: var(--button-hover-fill-color);\n",
              "  }\n",
              "\n",
              "  .colab-df-quickchart-complete:disabled,\n",
              "  .colab-df-quickchart-complete:disabled:hover {\n",
              "    background-color: var(--disabled-bg-color);\n",
              "    fill: var(--disabled-fill-color);\n",
              "    box-shadow: none;\n",
              "  }\n",
              "\n",
              "  .colab-df-spinner {\n",
              "    border: 2px solid var(--fill-color);\n",
              "    border-color: transparent;\n",
              "    border-bottom-color: var(--fill-color);\n",
              "    animation:\n",
              "      spin 1s steps(1) infinite;\n",
              "  }\n",
              "\n",
              "  @keyframes spin {\n",
              "    0% {\n",
              "      border-color: transparent;\n",
              "      border-bottom-color: var(--fill-color);\n",
              "      border-left-color: var(--fill-color);\n",
              "    }\n",
              "    20% {\n",
              "      border-color: transparent;\n",
              "      border-left-color: var(--fill-color);\n",
              "      border-top-color: var(--fill-color);\n",
              "    }\n",
              "    30% {\n",
              "      border-color: transparent;\n",
              "      border-left-color: var(--fill-color);\n",
              "      border-top-color: var(--fill-color);\n",
              "      border-right-color: var(--fill-color);\n",
              "    }\n",
              "    40% {\n",
              "      border-color: transparent;\n",
              "      border-right-color: var(--fill-color);\n",
              "      border-top-color: var(--fill-color);\n",
              "    }\n",
              "    60% {\n",
              "      border-color: transparent;\n",
              "      border-right-color: var(--fill-color);\n",
              "    }\n",
              "    80% {\n",
              "      border-color: transparent;\n",
              "      border-right-color: var(--fill-color);\n",
              "      border-bottom-color: var(--fill-color);\n",
              "    }\n",
              "    90% {\n",
              "      border-color: transparent;\n",
              "      border-bottom-color: var(--fill-color);\n",
              "    }\n",
              "  }\n",
              "</style>\n",
              "\n",
              "  <script>\n",
              "    async function quickchart(key) {\n",
              "      const quickchartButtonEl =\n",
              "        document.querySelector('#' + key + ' button');\n",
              "      quickchartButtonEl.disabled = true;  // To prevent multiple clicks.\n",
              "      quickchartButtonEl.classList.add('colab-df-spinner');\n",
              "      try {\n",
              "        const charts = await google.colab.kernel.invokeFunction(\n",
              "            'suggestCharts', [key], {});\n",
              "      } catch (error) {\n",
              "        console.error('Error during call to suggestCharts:', error);\n",
              "      }\n",
              "      quickchartButtonEl.classList.remove('colab-df-spinner');\n",
              "      quickchartButtonEl.classList.add('colab-df-quickchart-complete');\n",
              "    }\n",
              "    (() => {\n",
              "      let quickchartButtonEl =\n",
              "        document.querySelector('#df-f29521ba-9f7e-49a7-bd1f-04c0a21a7396 button');\n",
              "      quickchartButtonEl.style.display =\n",
              "        google.colab.kernel.accessAllowed ? 'block' : 'none';\n",
              "    })();\n",
              "  </script>\n",
              "</div>\n",
              "\n",
              "    </div>\n",
              "  </div>\n"
            ],
            "text/plain": [
              "            sno  duration_month         poi  resident_since         age  \\\n",
              "count  800.0000       800.00000  788.000000      800.000000  796.000000   \n",
              "mean   400.5000        20.65125    2.950508        2.841250   35.408291   \n",
              "std    231.0844        12.15635    1.130084        1.106833   11.499101   \n",
              "min      1.0000         4.00000    1.000000        1.000000   19.000000   \n",
              "25%    200.7500        12.00000    2.000000        2.000000   27.000000   \n",
              "50%    400.5000        18.00000    3.000000        3.000000   33.000000   \n",
              "75%    600.2500        24.00000    4.000000        4.000000   41.000000   \n",
              "max    800.0000        72.00000    4.000000        4.000000   75.000000   \n",
              "\n",
              "       credits_no     liables    Group_no  \n",
              "count  800.000000  800.000000  800.000000  \n",
              "mean     1.396250    1.147500    2.076250  \n",
              "std      0.569773    0.354825    0.744062  \n",
              "min      1.000000    1.000000    1.000000  \n",
              "25%      1.000000    1.000000    2.000000  \n",
              "50%      1.000000    1.000000    2.000000  \n",
              "75%      2.000000    1.000000    3.000000  \n",
              "max      4.000000    2.000000    3.000000  "
            ]
          },
          "execution_count": 7,
          "metadata": {},
          "output_type": "execute_result"
        }
      ],
      "source": [
        "train.describe()"
      ]
    },
    {
      "cell_type": "code",
      "execution_count": null,
      "metadata": {
        "colab": {
          "base_uri": "https://localhost:8080/",
          "height": 300
        },
        "id": "XGmGKIc8hAEw",
        "outputId": "4ec3a9bb-7802-4458-d87a-e4a6259ffef9"
      },
      "outputs": [
        {
          "data": {
            "application/vnd.google.colaboratory.intrinsic+json": {
              "summary": "{\n  \"name\": \"test\",\n  \"rows\": 8,\n  \"fields\": [\n    {\n      \"column\": \"sno\",\n      \"properties\": {\n        \"dtype\": \"number\",\n        \"std\": 71.77644232399086,\n        \"min\": 1.0,\n        \"max\": 200.0,\n        \"num_unique_values\": 6,\n        \"samples\": [\n          200.0,\n          100.5,\n          150.25\n        ],\n        \"semantic_type\": \"\",\n        \"description\": \"\"\n      }\n    },\n    {\n      \"column\": \"duration_month\",\n      \"properties\": {\n        \"dtype\": \"number\",\n        \"std\": 65.03307463024761,\n        \"min\": 4.0,\n        \"max\": 200.0,\n        \"num_unique_values\": 8,\n        \"samples\": [\n          21.91,\n          20.0,\n          200.0\n        ],\n        \"semantic_type\": \"\",\n        \"description\": \"\"\n      }\n    },\n    {\n      \"column\": \"poi\",\n      \"properties\": {\n        \"dtype\": \"number\",\n        \"std\": 68.0408714340786,\n        \"min\": 1.0,\n        \"max\": 195.0,\n        \"num_unique_values\": 7,\n        \"samples\": [\n          195.0,\n          2.9743589743589745,\n          3.0\n        ],\n        \"semantic_type\": \"\",\n        \"description\": \"\"\n      }\n    },\n    {\n      \"column\": \"resident_since\",\n      \"properties\": {\n        \"dtype\": \"number\",\n        \"std\": 69.81341871306923,\n        \"min\": 1.0,\n        \"max\": 200.0,\n        \"num_unique_values\": 7,\n        \"samples\": [\n          200.0,\n          2.86,\n          3.0\n        ],\n        \"semantic_type\": \"\",\n        \"description\": \"\"\n      }\n    },\n    {\n      \"column\": \"age\",\n      \"properties\": {\n        \"dtype\": \"number\",\n        \"std\": 60.34098402796055,\n        \"min\": 11.05380765122213,\n        \"max\": 198.0,\n        \"num_unique_values\": 8,\n        \"samples\": [\n          36.10606060606061,\n          33.0,\n          198.0\n        ],\n        \"semantic_type\": \"\",\n        \"description\": \"\"\n      }\n    },\n    {\n      \"column\": \"credits_no\",\n      \"properties\": {\n        \"dtype\": \"number\",\n        \"std\": 70.16032730819978,\n        \"min\": 0.6077390341818943,\n        \"max\": 200.0,\n        \"num_unique_values\": 6,\n        \"samples\": [\n          200.0,\n          1.45,\n          4.0\n        ],\n        \"semantic_type\": \"\",\n        \"description\": \"\"\n      }\n    },\n    {\n      \"column\": \"liables\",\n      \"properties\": {\n        \"dtype\": \"number\",\n        \"std\": 70.32950098327929,\n        \"min\": 0.38927196574706346,\n        \"max\": 200.0,\n        \"num_unique_values\": 5,\n        \"samples\": [\n          1.185,\n          2.0,\n          0.38927196574706346\n        ],\n        \"semantic_type\": \"\",\n        \"description\": \"\"\n      }\n    }\n  ]\n}",
              "type": "dataframe"
            },
            "text/html": [
              "\n",
              "  <div id=\"df-cfb5fc9a-71df-4377-99d1-80f212b6ad68\" class=\"colab-df-container\">\n",
              "    <div>\n",
              "<style scoped>\n",
              "    .dataframe tbody tr th:only-of-type {\n",
              "        vertical-align: middle;\n",
              "    }\n",
              "\n",
              "    .dataframe tbody tr th {\n",
              "        vertical-align: top;\n",
              "    }\n",
              "\n",
              "    .dataframe thead th {\n",
              "        text-align: right;\n",
              "    }\n",
              "</style>\n",
              "<table border=\"1\" class=\"dataframe\">\n",
              "  <thead>\n",
              "    <tr style=\"text-align: right;\">\n",
              "      <th></th>\n",
              "      <th>sno</th>\n",
              "      <th>duration_month</th>\n",
              "      <th>poi</th>\n",
              "      <th>resident_since</th>\n",
              "      <th>age</th>\n",
              "      <th>credits_no</th>\n",
              "      <th>liables</th>\n",
              "    </tr>\n",
              "  </thead>\n",
              "  <tbody>\n",
              "    <tr>\n",
              "      <th>count</th>\n",
              "      <td>200.000000</td>\n",
              "      <td>200.000000</td>\n",
              "      <td>195.000000</td>\n",
              "      <td>200.000000</td>\n",
              "      <td>198.000000</td>\n",
              "      <td>200.000000</td>\n",
              "      <td>200.000000</td>\n",
              "    </tr>\n",
              "    <tr>\n",
              "      <th>mean</th>\n",
              "      <td>100.500000</td>\n",
              "      <td>21.910000</td>\n",
              "      <td>2.974359</td>\n",
              "      <td>2.860000</td>\n",
              "      <td>36.106061</td>\n",
              "      <td>1.450000</td>\n",
              "      <td>1.185000</td>\n",
              "    </tr>\n",
              "    <tr>\n",
              "      <th>std</th>\n",
              "      <td>57.879185</td>\n",
              "      <td>11.635671</td>\n",
              "      <td>1.081408</td>\n",
              "      <td>1.093792</td>\n",
              "      <td>11.053808</td>\n",
              "      <td>0.607739</td>\n",
              "      <td>0.389272</td>\n",
              "    </tr>\n",
              "    <tr>\n",
              "      <th>min</th>\n",
              "      <td>1.000000</td>\n",
              "      <td>4.000000</td>\n",
              "      <td>1.000000</td>\n",
              "      <td>1.000000</td>\n",
              "      <td>20.000000</td>\n",
              "      <td>1.000000</td>\n",
              "      <td>1.000000</td>\n",
              "    </tr>\n",
              "    <tr>\n",
              "      <th>25%</th>\n",
              "      <td>50.750000</td>\n",
              "      <td>12.000000</td>\n",
              "      <td>2.000000</td>\n",
              "      <td>2.000000</td>\n",
              "      <td>28.000000</td>\n",
              "      <td>1.000000</td>\n",
              "      <td>1.000000</td>\n",
              "    </tr>\n",
              "    <tr>\n",
              "      <th>50%</th>\n",
              "      <td>100.500000</td>\n",
              "      <td>20.000000</td>\n",
              "      <td>3.000000</td>\n",
              "      <td>3.000000</td>\n",
              "      <td>33.000000</td>\n",
              "      <td>1.000000</td>\n",
              "      <td>1.000000</td>\n",
              "    </tr>\n",
              "    <tr>\n",
              "      <th>75%</th>\n",
              "      <td>150.250000</td>\n",
              "      <td>27.250000</td>\n",
              "      <td>4.000000</td>\n",
              "      <td>4.000000</td>\n",
              "      <td>43.000000</td>\n",
              "      <td>2.000000</td>\n",
              "      <td>1.000000</td>\n",
              "    </tr>\n",
              "    <tr>\n",
              "      <th>max</th>\n",
              "      <td>200.000000</td>\n",
              "      <td>60.000000</td>\n",
              "      <td>4.000000</td>\n",
              "      <td>4.000000</td>\n",
              "      <td>68.000000</td>\n",
              "      <td>4.000000</td>\n",
              "      <td>2.000000</td>\n",
              "    </tr>\n",
              "  </tbody>\n",
              "</table>\n",
              "</div>\n",
              "    <div class=\"colab-df-buttons\">\n",
              "\n",
              "  <div class=\"colab-df-container\">\n",
              "    <button class=\"colab-df-convert\" onclick=\"convertToInteractive('df-cfb5fc9a-71df-4377-99d1-80f212b6ad68')\"\n",
              "            title=\"Convert this dataframe to an interactive table.\"\n",
              "            style=\"display:none;\">\n",
              "\n",
              "  <svg xmlns=\"http://www.w3.org/2000/svg\" height=\"24px\" viewBox=\"0 -960 960 960\">\n",
              "    <path d=\"M120-120v-720h720v720H120Zm60-500h600v-160H180v160Zm220 220h160v-160H400v160Zm0 220h160v-160H400v160ZM180-400h160v-160H180v160Zm440 0h160v-160H620v160ZM180-180h160v-160H180v160Zm440 0h160v-160H620v160Z\"/>\n",
              "  </svg>\n",
              "    </button>\n",
              "\n",
              "  <style>\n",
              "    .colab-df-container {\n",
              "      display:flex;\n",
              "      gap: 12px;\n",
              "    }\n",
              "\n",
              "    .colab-df-convert {\n",
              "      background-color: #E8F0FE;\n",
              "      border: none;\n",
              "      border-radius: 50%;\n",
              "      cursor: pointer;\n",
              "      display: none;\n",
              "      fill: #1967D2;\n",
              "      height: 32px;\n",
              "      padding: 0 0 0 0;\n",
              "      width: 32px;\n",
              "    }\n",
              "\n",
              "    .colab-df-convert:hover {\n",
              "      background-color: #E2EBFA;\n",
              "      box-shadow: 0px 1px 2px rgba(60, 64, 67, 0.3), 0px 1px 3px 1px rgba(60, 64, 67, 0.15);\n",
              "      fill: #174EA6;\n",
              "    }\n",
              "\n",
              "    .colab-df-buttons div {\n",
              "      margin-bottom: 4px;\n",
              "    }\n",
              "\n",
              "    [theme=dark] .colab-df-convert {\n",
              "      background-color: #3B4455;\n",
              "      fill: #D2E3FC;\n",
              "    }\n",
              "\n",
              "    [theme=dark] .colab-df-convert:hover {\n",
              "      background-color: #434B5C;\n",
              "      box-shadow: 0px 1px 3px 1px rgba(0, 0, 0, 0.15);\n",
              "      filter: drop-shadow(0px 1px 2px rgba(0, 0, 0, 0.3));\n",
              "      fill: #FFFFFF;\n",
              "    }\n",
              "  </style>\n",
              "\n",
              "    <script>\n",
              "      const buttonEl =\n",
              "        document.querySelector('#df-cfb5fc9a-71df-4377-99d1-80f212b6ad68 button.colab-df-convert');\n",
              "      buttonEl.style.display =\n",
              "        google.colab.kernel.accessAllowed ? 'block' : 'none';\n",
              "\n",
              "      async function convertToInteractive(key) {\n",
              "        const element = document.querySelector('#df-cfb5fc9a-71df-4377-99d1-80f212b6ad68');\n",
              "        const dataTable =\n",
              "          await google.colab.kernel.invokeFunction('convertToInteractive',\n",
              "                                                    [key], {});\n",
              "        if (!dataTable) return;\n",
              "\n",
              "        const docLinkHtml = 'Like what you see? Visit the ' +\n",
              "          '<a target=\"_blank\" href=https://colab.research.google.com/notebooks/data_table.ipynb>data table notebook</a>'\n",
              "          + ' to learn more about interactive tables.';\n",
              "        element.innerHTML = '';\n",
              "        dataTable['output_type'] = 'display_data';\n",
              "        await google.colab.output.renderOutput(dataTable, element);\n",
              "        const docLink = document.createElement('div');\n",
              "        docLink.innerHTML = docLinkHtml;\n",
              "        element.appendChild(docLink);\n",
              "      }\n",
              "    </script>\n",
              "  </div>\n",
              "\n",
              "\n",
              "<div id=\"df-94663c1b-6f1a-49e6-9c72-ebd03ff0437c\">\n",
              "  <button class=\"colab-df-quickchart\" onclick=\"quickchart('df-94663c1b-6f1a-49e6-9c72-ebd03ff0437c')\"\n",
              "            title=\"Suggest charts\"\n",
              "            style=\"display:none;\">\n",
              "\n",
              "<svg xmlns=\"http://www.w3.org/2000/svg\" height=\"24px\"viewBox=\"0 0 24 24\"\n",
              "     width=\"24px\">\n",
              "    <g>\n",
              "        <path d=\"M19 3H5c-1.1 0-2 .9-2 2v14c0 1.1.9 2 2 2h14c1.1 0 2-.9 2-2V5c0-1.1-.9-2-2-2zM9 17H7v-7h2v7zm4 0h-2V7h2v10zm4 0h-2v-4h2v4z\"/>\n",
              "    </g>\n",
              "</svg>\n",
              "  </button>\n",
              "\n",
              "<style>\n",
              "  .colab-df-quickchart {\n",
              "      --bg-color: #E8F0FE;\n",
              "      --fill-color: #1967D2;\n",
              "      --hover-bg-color: #E2EBFA;\n",
              "      --hover-fill-color: #174EA6;\n",
              "      --disabled-fill-color: #AAA;\n",
              "      --disabled-bg-color: #DDD;\n",
              "  }\n",
              "\n",
              "  [theme=dark] .colab-df-quickchart {\n",
              "      --bg-color: #3B4455;\n",
              "      --fill-color: #D2E3FC;\n",
              "      --hover-bg-color: #434B5C;\n",
              "      --hover-fill-color: #FFFFFF;\n",
              "      --disabled-bg-color: #3B4455;\n",
              "      --disabled-fill-color: #666;\n",
              "  }\n",
              "\n",
              "  .colab-df-quickchart {\n",
              "    background-color: var(--bg-color);\n",
              "    border: none;\n",
              "    border-radius: 50%;\n",
              "    cursor: pointer;\n",
              "    display: none;\n",
              "    fill: var(--fill-color);\n",
              "    height: 32px;\n",
              "    padding: 0;\n",
              "    width: 32px;\n",
              "  }\n",
              "\n",
              "  .colab-df-quickchart:hover {\n",
              "    background-color: var(--hover-bg-color);\n",
              "    box-shadow: 0 1px 2px rgba(60, 64, 67, 0.3), 0 1px 3px 1px rgba(60, 64, 67, 0.15);\n",
              "    fill: var(--button-hover-fill-color);\n",
              "  }\n",
              "\n",
              "  .colab-df-quickchart-complete:disabled,\n",
              "  .colab-df-quickchart-complete:disabled:hover {\n",
              "    background-color: var(--disabled-bg-color);\n",
              "    fill: var(--disabled-fill-color);\n",
              "    box-shadow: none;\n",
              "  }\n",
              "\n",
              "  .colab-df-spinner {\n",
              "    border: 2px solid var(--fill-color);\n",
              "    border-color: transparent;\n",
              "    border-bottom-color: var(--fill-color);\n",
              "    animation:\n",
              "      spin 1s steps(1) infinite;\n",
              "  }\n",
              "\n",
              "  @keyframes spin {\n",
              "    0% {\n",
              "      border-color: transparent;\n",
              "      border-bottom-color: var(--fill-color);\n",
              "      border-left-color: var(--fill-color);\n",
              "    }\n",
              "    20% {\n",
              "      border-color: transparent;\n",
              "      border-left-color: var(--fill-color);\n",
              "      border-top-color: var(--fill-color);\n",
              "    }\n",
              "    30% {\n",
              "      border-color: transparent;\n",
              "      border-left-color: var(--fill-color);\n",
              "      border-top-color: var(--fill-color);\n",
              "      border-right-color: var(--fill-color);\n",
              "    }\n",
              "    40% {\n",
              "      border-color: transparent;\n",
              "      border-right-color: var(--fill-color);\n",
              "      border-top-color: var(--fill-color);\n",
              "    }\n",
              "    60% {\n",
              "      border-color: transparent;\n",
              "      border-right-color: var(--fill-color);\n",
              "    }\n",
              "    80% {\n",
              "      border-color: transparent;\n",
              "      border-right-color: var(--fill-color);\n",
              "      border-bottom-color: var(--fill-color);\n",
              "    }\n",
              "    90% {\n",
              "      border-color: transparent;\n",
              "      border-bottom-color: var(--fill-color);\n",
              "    }\n",
              "  }\n",
              "</style>\n",
              "\n",
              "  <script>\n",
              "    async function quickchart(key) {\n",
              "      const quickchartButtonEl =\n",
              "        document.querySelector('#' + key + ' button');\n",
              "      quickchartButtonEl.disabled = true;  // To prevent multiple clicks.\n",
              "      quickchartButtonEl.classList.add('colab-df-spinner');\n",
              "      try {\n",
              "        const charts = await google.colab.kernel.invokeFunction(\n",
              "            'suggestCharts', [key], {});\n",
              "      } catch (error) {\n",
              "        console.error('Error during call to suggestCharts:', error);\n",
              "      }\n",
              "      quickchartButtonEl.classList.remove('colab-df-spinner');\n",
              "      quickchartButtonEl.classList.add('colab-df-quickchart-complete');\n",
              "    }\n",
              "    (() => {\n",
              "      let quickchartButtonEl =\n",
              "        document.querySelector('#df-94663c1b-6f1a-49e6-9c72-ebd03ff0437c button');\n",
              "      quickchartButtonEl.style.display =\n",
              "        google.colab.kernel.accessAllowed ? 'block' : 'none';\n",
              "    })();\n",
              "  </script>\n",
              "</div>\n",
              "\n",
              "    </div>\n",
              "  </div>\n"
            ],
            "text/plain": [
              "              sno  duration_month         poi  resident_since         age  \\\n",
              "count  200.000000      200.000000  195.000000      200.000000  198.000000   \n",
              "mean   100.500000       21.910000    2.974359        2.860000   36.106061   \n",
              "std     57.879185       11.635671    1.081408        1.093792   11.053808   \n",
              "min      1.000000        4.000000    1.000000        1.000000   20.000000   \n",
              "25%     50.750000       12.000000    2.000000        2.000000   28.000000   \n",
              "50%    100.500000       20.000000    3.000000        3.000000   33.000000   \n",
              "75%    150.250000       27.250000    4.000000        4.000000   43.000000   \n",
              "max    200.000000       60.000000    4.000000        4.000000   68.000000   \n",
              "\n",
              "       credits_no     liables  \n",
              "count  200.000000  200.000000  \n",
              "mean     1.450000    1.185000  \n",
              "std      0.607739    0.389272  \n",
              "min      1.000000    1.000000  \n",
              "25%      1.000000    1.000000  \n",
              "50%      1.000000    1.000000  \n",
              "75%      2.000000    1.000000  \n",
              "max      4.000000    2.000000  "
            ]
          },
          "execution_count": 8,
          "metadata": {},
          "output_type": "execute_result"
        }
      ],
      "source": [
        "test.describe()"
      ]
    },
    {
      "cell_type": "code",
      "execution_count": null,
      "metadata": {
        "colab": {
          "base_uri": "https://localhost:8080/",
          "height": 255
        },
        "id": "cpy5Q3O-hERn",
        "outputId": "33aad7c1-b4c0-40e1-e03b-c102db4e1b03"
      },
      "outputs": [
        {
          "data": {
            "application/vnd.google.colaboratory.intrinsic+json": {
              "type": "dataframe",
              "variable_name": "train"
            },
            "text/html": [
              "\n",
              "  <div id=\"df-5f134350-c7f9-4063-a646-73c2af9da04a\" class=\"colab-df-container\">\n",
              "    <div>\n",
              "<style scoped>\n",
              "    .dataframe tbody tr th:only-of-type {\n",
              "        vertical-align: middle;\n",
              "    }\n",
              "\n",
              "    .dataframe tbody tr th {\n",
              "        vertical-align: top;\n",
              "    }\n",
              "\n",
              "    .dataframe thead th {\n",
              "        text-align: right;\n",
              "    }\n",
              "</style>\n",
              "<table border=\"1\" class=\"dataframe\">\n",
              "  <thead>\n",
              "    <tr style=\"text-align: right;\">\n",
              "      <th></th>\n",
              "      <th>sno</th>\n",
              "      <th>acc_info</th>\n",
              "      <th>duration_month</th>\n",
              "      <th>credit_history</th>\n",
              "      <th>purpose</th>\n",
              "      <th>savings_acc</th>\n",
              "      <th>employment_st</th>\n",
              "      <th>poi</th>\n",
              "      <th>personal_status</th>\n",
              "      <th>gurantors</th>\n",
              "      <th>...</th>\n",
              "      <th>property_type</th>\n",
              "      <th>age</th>\n",
              "      <th>installment_type</th>\n",
              "      <th>housing_type</th>\n",
              "      <th>credits_no</th>\n",
              "      <th>job_type</th>\n",
              "      <th>liables</th>\n",
              "      <th>telephone</th>\n",
              "      <th>foreigner</th>\n",
              "      <th>Group_no</th>\n",
              "    </tr>\n",
              "  </thead>\n",
              "  <tbody>\n",
              "    <tr>\n",
              "      <th>0</th>\n",
              "      <td>1</td>\n",
              "      <td>A11</td>\n",
              "      <td>6</td>\n",
              "      <td>A34</td>\n",
              "      <td>A43</td>\n",
              "      <td>A65</td>\n",
              "      <td>A75</td>\n",
              "      <td>4.0</td>\n",
              "      <td>A93</td>\n",
              "      <td>A101</td>\n",
              "      <td>...</td>\n",
              "      <td>A121</td>\n",
              "      <td>67.0</td>\n",
              "      <td>A143</td>\n",
              "      <td>A152</td>\n",
              "      <td>2</td>\n",
              "      <td>A173</td>\n",
              "      <td>1</td>\n",
              "      <td>A192</td>\n",
              "      <td>A201</td>\n",
              "      <td>3</td>\n",
              "    </tr>\n",
              "    <tr>\n",
              "      <th>1</th>\n",
              "      <td>2</td>\n",
              "      <td>A12</td>\n",
              "      <td>48</td>\n",
              "      <td>A32</td>\n",
              "      <td>A43</td>\n",
              "      <td>A61</td>\n",
              "      <td>A73</td>\n",
              "      <td>2.0</td>\n",
              "      <td>A92</td>\n",
              "      <td>A101</td>\n",
              "      <td>...</td>\n",
              "      <td>A121</td>\n",
              "      <td>22.0</td>\n",
              "      <td>A143</td>\n",
              "      <td>A152</td>\n",
              "      <td>1</td>\n",
              "      <td>A173</td>\n",
              "      <td>1</td>\n",
              "      <td>A191</td>\n",
              "      <td>A201</td>\n",
              "      <td>1</td>\n",
              "    </tr>\n",
              "    <tr>\n",
              "      <th>2</th>\n",
              "      <td>3</td>\n",
              "      <td>A14</td>\n",
              "      <td>12</td>\n",
              "      <td>A34</td>\n",
              "      <td>A46</td>\n",
              "      <td>A61</td>\n",
              "      <td>A74</td>\n",
              "      <td>2.0</td>\n",
              "      <td>A93</td>\n",
              "      <td>A101</td>\n",
              "      <td>...</td>\n",
              "      <td>A121</td>\n",
              "      <td>49.0</td>\n",
              "      <td>A143</td>\n",
              "      <td>A152</td>\n",
              "      <td>1</td>\n",
              "      <td>A172</td>\n",
              "      <td>2</td>\n",
              "      <td>A191</td>\n",
              "      <td>A201</td>\n",
              "      <td>2</td>\n",
              "    </tr>\n",
              "    <tr>\n",
              "      <th>3</th>\n",
              "      <td>4</td>\n",
              "      <td>A11</td>\n",
              "      <td>42</td>\n",
              "      <td>A32</td>\n",
              "      <td>A42</td>\n",
              "      <td>A61</td>\n",
              "      <td>A74</td>\n",
              "      <td>2.0</td>\n",
              "      <td>A93</td>\n",
              "      <td>A103</td>\n",
              "      <td>...</td>\n",
              "      <td>A122</td>\n",
              "      <td>45.0</td>\n",
              "      <td>A143</td>\n",
              "      <td>A153</td>\n",
              "      <td>1</td>\n",
              "      <td>A173</td>\n",
              "      <td>2</td>\n",
              "      <td>A191</td>\n",
              "      <td>A201</td>\n",
              "      <td>1</td>\n",
              "    </tr>\n",
              "    <tr>\n",
              "      <th>4</th>\n",
              "      <td>5</td>\n",
              "      <td>A11</td>\n",
              "      <td>24</td>\n",
              "      <td>A33</td>\n",
              "      <td>A40</td>\n",
              "      <td>A61</td>\n",
              "      <td>A73</td>\n",
              "      <td>3.0</td>\n",
              "      <td>A93</td>\n",
              "      <td>A101</td>\n",
              "      <td>...</td>\n",
              "      <td>A124</td>\n",
              "      <td>53.0</td>\n",
              "      <td>A143</td>\n",
              "      <td>A153</td>\n",
              "      <td>2</td>\n",
              "      <td>A173</td>\n",
              "      <td>2</td>\n",
              "      <td>A191</td>\n",
              "      <td>A201</td>\n",
              "      <td>1</td>\n",
              "    </tr>\n",
              "  </tbody>\n",
              "</table>\n",
              "<p>5 rows × 21 columns</p>\n",
              "</div>\n",
              "    <div class=\"colab-df-buttons\">\n",
              "\n",
              "  <div class=\"colab-df-container\">\n",
              "    <button class=\"colab-df-convert\" onclick=\"convertToInteractive('df-5f134350-c7f9-4063-a646-73c2af9da04a')\"\n",
              "            title=\"Convert this dataframe to an interactive table.\"\n",
              "            style=\"display:none;\">\n",
              "\n",
              "  <svg xmlns=\"http://www.w3.org/2000/svg\" height=\"24px\" viewBox=\"0 -960 960 960\">\n",
              "    <path d=\"M120-120v-720h720v720H120Zm60-500h600v-160H180v160Zm220 220h160v-160H400v160Zm0 220h160v-160H400v160ZM180-400h160v-160H180v160Zm440 0h160v-160H620v160ZM180-180h160v-160H180v160Zm440 0h160v-160H620v160Z\"/>\n",
              "  </svg>\n",
              "    </button>\n",
              "\n",
              "  <style>\n",
              "    .colab-df-container {\n",
              "      display:flex;\n",
              "      gap: 12px;\n",
              "    }\n",
              "\n",
              "    .colab-df-convert {\n",
              "      background-color: #E8F0FE;\n",
              "      border: none;\n",
              "      border-radius: 50%;\n",
              "      cursor: pointer;\n",
              "      display: none;\n",
              "      fill: #1967D2;\n",
              "      height: 32px;\n",
              "      padding: 0 0 0 0;\n",
              "      width: 32px;\n",
              "    }\n",
              "\n",
              "    .colab-df-convert:hover {\n",
              "      background-color: #E2EBFA;\n",
              "      box-shadow: 0px 1px 2px rgba(60, 64, 67, 0.3), 0px 1px 3px 1px rgba(60, 64, 67, 0.15);\n",
              "      fill: #174EA6;\n",
              "    }\n",
              "\n",
              "    .colab-df-buttons div {\n",
              "      margin-bottom: 4px;\n",
              "    }\n",
              "\n",
              "    [theme=dark] .colab-df-convert {\n",
              "      background-color: #3B4455;\n",
              "      fill: #D2E3FC;\n",
              "    }\n",
              "\n",
              "    [theme=dark] .colab-df-convert:hover {\n",
              "      background-color: #434B5C;\n",
              "      box-shadow: 0px 1px 3px 1px rgba(0, 0, 0, 0.15);\n",
              "      filter: drop-shadow(0px 1px 2px rgba(0, 0, 0, 0.3));\n",
              "      fill: #FFFFFF;\n",
              "    }\n",
              "  </style>\n",
              "\n",
              "    <script>\n",
              "      const buttonEl =\n",
              "        document.querySelector('#df-5f134350-c7f9-4063-a646-73c2af9da04a button.colab-df-convert');\n",
              "      buttonEl.style.display =\n",
              "        google.colab.kernel.accessAllowed ? 'block' : 'none';\n",
              "\n",
              "      async function convertToInteractive(key) {\n",
              "        const element = document.querySelector('#df-5f134350-c7f9-4063-a646-73c2af9da04a');\n",
              "        const dataTable =\n",
              "          await google.colab.kernel.invokeFunction('convertToInteractive',\n",
              "                                                    [key], {});\n",
              "        if (!dataTable) return;\n",
              "\n",
              "        const docLinkHtml = 'Like what you see? Visit the ' +\n",
              "          '<a target=\"_blank\" href=https://colab.research.google.com/notebooks/data_table.ipynb>data table notebook</a>'\n",
              "          + ' to learn more about interactive tables.';\n",
              "        element.innerHTML = '';\n",
              "        dataTable['output_type'] = 'display_data';\n",
              "        await google.colab.output.renderOutput(dataTable, element);\n",
              "        const docLink = document.createElement('div');\n",
              "        docLink.innerHTML = docLinkHtml;\n",
              "        element.appendChild(docLink);\n",
              "      }\n",
              "    </script>\n",
              "  </div>\n",
              "\n",
              "\n",
              "<div id=\"df-4d1650b1-0f2f-427e-ab53-3688c9d37e7c\">\n",
              "  <button class=\"colab-df-quickchart\" onclick=\"quickchart('df-4d1650b1-0f2f-427e-ab53-3688c9d37e7c')\"\n",
              "            title=\"Suggest charts\"\n",
              "            style=\"display:none;\">\n",
              "\n",
              "<svg xmlns=\"http://www.w3.org/2000/svg\" height=\"24px\"viewBox=\"0 0 24 24\"\n",
              "     width=\"24px\">\n",
              "    <g>\n",
              "        <path d=\"M19 3H5c-1.1 0-2 .9-2 2v14c0 1.1.9 2 2 2h14c1.1 0 2-.9 2-2V5c0-1.1-.9-2-2-2zM9 17H7v-7h2v7zm4 0h-2V7h2v10zm4 0h-2v-4h2v4z\"/>\n",
              "    </g>\n",
              "</svg>\n",
              "  </button>\n",
              "\n",
              "<style>\n",
              "  .colab-df-quickchart {\n",
              "      --bg-color: #E8F0FE;\n",
              "      --fill-color: #1967D2;\n",
              "      --hover-bg-color: #E2EBFA;\n",
              "      --hover-fill-color: #174EA6;\n",
              "      --disabled-fill-color: #AAA;\n",
              "      --disabled-bg-color: #DDD;\n",
              "  }\n",
              "\n",
              "  [theme=dark] .colab-df-quickchart {\n",
              "      --bg-color: #3B4455;\n",
              "      --fill-color: #D2E3FC;\n",
              "      --hover-bg-color: #434B5C;\n",
              "      --hover-fill-color: #FFFFFF;\n",
              "      --disabled-bg-color: #3B4455;\n",
              "      --disabled-fill-color: #666;\n",
              "  }\n",
              "\n",
              "  .colab-df-quickchart {\n",
              "    background-color: var(--bg-color);\n",
              "    border: none;\n",
              "    border-radius: 50%;\n",
              "    cursor: pointer;\n",
              "    display: none;\n",
              "    fill: var(--fill-color);\n",
              "    height: 32px;\n",
              "    padding: 0;\n",
              "    width: 32px;\n",
              "  }\n",
              "\n",
              "  .colab-df-quickchart:hover {\n",
              "    background-color: var(--hover-bg-color);\n",
              "    box-shadow: 0 1px 2px rgba(60, 64, 67, 0.3), 0 1px 3px 1px rgba(60, 64, 67, 0.15);\n",
              "    fill: var(--button-hover-fill-color);\n",
              "  }\n",
              "\n",
              "  .colab-df-quickchart-complete:disabled,\n",
              "  .colab-df-quickchart-complete:disabled:hover {\n",
              "    background-color: var(--disabled-bg-color);\n",
              "    fill: var(--disabled-fill-color);\n",
              "    box-shadow: none;\n",
              "  }\n",
              "\n",
              "  .colab-df-spinner {\n",
              "    border: 2px solid var(--fill-color);\n",
              "    border-color: transparent;\n",
              "    border-bottom-color: var(--fill-color);\n",
              "    animation:\n",
              "      spin 1s steps(1) infinite;\n",
              "  }\n",
              "\n",
              "  @keyframes spin {\n",
              "    0% {\n",
              "      border-color: transparent;\n",
              "      border-bottom-color: var(--fill-color);\n",
              "      border-left-color: var(--fill-color);\n",
              "    }\n",
              "    20% {\n",
              "      border-color: transparent;\n",
              "      border-left-color: var(--fill-color);\n",
              "      border-top-color: var(--fill-color);\n",
              "    }\n",
              "    30% {\n",
              "      border-color: transparent;\n",
              "      border-left-color: var(--fill-color);\n",
              "      border-top-color: var(--fill-color);\n",
              "      border-right-color: var(--fill-color);\n",
              "    }\n",
              "    40% {\n",
              "      border-color: transparent;\n",
              "      border-right-color: var(--fill-color);\n",
              "      border-top-color: var(--fill-color);\n",
              "    }\n",
              "    60% {\n",
              "      border-color: transparent;\n",
              "      border-right-color: var(--fill-color);\n",
              "    }\n",
              "    80% {\n",
              "      border-color: transparent;\n",
              "      border-right-color: var(--fill-color);\n",
              "      border-bottom-color: var(--fill-color);\n",
              "    }\n",
              "    90% {\n",
              "      border-color: transparent;\n",
              "      border-bottom-color: var(--fill-color);\n",
              "    }\n",
              "  }\n",
              "</style>\n",
              "\n",
              "  <script>\n",
              "    async function quickchart(key) {\n",
              "      const quickchartButtonEl =\n",
              "        document.querySelector('#' + key + ' button');\n",
              "      quickchartButtonEl.disabled = true;  // To prevent multiple clicks.\n",
              "      quickchartButtonEl.classList.add('colab-df-spinner');\n",
              "      try {\n",
              "        const charts = await google.colab.kernel.invokeFunction(\n",
              "            'suggestCharts', [key], {});\n",
              "      } catch (error) {\n",
              "        console.error('Error during call to suggestCharts:', error);\n",
              "      }\n",
              "      quickchartButtonEl.classList.remove('colab-df-spinner');\n",
              "      quickchartButtonEl.classList.add('colab-df-quickchart-complete');\n",
              "    }\n",
              "    (() => {\n",
              "      let quickchartButtonEl =\n",
              "        document.querySelector('#df-4d1650b1-0f2f-427e-ab53-3688c9d37e7c button');\n",
              "      quickchartButtonEl.style.display =\n",
              "        google.colab.kernel.accessAllowed ? 'block' : 'none';\n",
              "    })();\n",
              "  </script>\n",
              "</div>\n",
              "\n",
              "    </div>\n",
              "  </div>\n"
            ],
            "text/plain": [
              "   sno acc_info  duration_month credit_history purpose savings_acc  \\\n",
              "0    1      A11               6            A34     A43         A65   \n",
              "1    2      A12              48            A32     A43         A61   \n",
              "2    3      A14              12            A34     A46         A61   \n",
              "3    4      A11              42            A32     A42         A61   \n",
              "4    5      A11              24            A33     A40         A61   \n",
              "\n",
              "  employment_st  poi personal_status gurantors  ...  property_type   age  \\\n",
              "0           A75  4.0             A93      A101  ...           A121  67.0   \n",
              "1           A73  2.0             A92      A101  ...           A121  22.0   \n",
              "2           A74  2.0             A93      A101  ...           A121  49.0   \n",
              "3           A74  2.0             A93      A103  ...           A122  45.0   \n",
              "4           A73  3.0             A93      A101  ...           A124  53.0   \n",
              "\n",
              "   installment_type housing_type credits_no  job_type liables  telephone  \\\n",
              "0              A143         A152          2      A173       1       A192   \n",
              "1              A143         A152          1      A173       1       A191   \n",
              "2              A143         A152          1      A172       2       A191   \n",
              "3              A143         A153          1      A173       2       A191   \n",
              "4              A143         A153          2      A173       2       A191   \n",
              "\n",
              "  foreigner Group_no  \n",
              "0      A201        3  \n",
              "1      A201        1  \n",
              "2      A201        2  \n",
              "3      A201        1  \n",
              "4      A201        1  \n",
              "\n",
              "[5 rows x 21 columns]"
            ]
          },
          "execution_count": 9,
          "metadata": {},
          "output_type": "execute_result"
        }
      ],
      "source": [
        "train.head()"
      ]
    },
    {
      "cell_type": "code",
      "execution_count": null,
      "metadata": {
        "colab": {
          "base_uri": "https://localhost:8080/",
          "height": 226
        },
        "id": "h8yYm2JthIO6",
        "outputId": "efe14710-84b7-404e-993c-ea5a75a1246a"
      },
      "outputs": [
        {
          "data": {
            "application/vnd.google.colaboratory.intrinsic+json": {
              "summary": "{\n  \"name\": \"test\",\n  \"rows\": 200,\n  \"fields\": [\n    {\n      \"column\": \"sno\",\n      \"properties\": {\n        \"dtype\": \"number\",\n        \"std\": 57,\n        \"min\": 1,\n        \"max\": 200,\n        \"num_unique_values\": 200,\n        \"samples\": [\n          96,\n          16,\n          31\n        ],\n        \"semantic_type\": \"\",\n        \"description\": \"\"\n      }\n    },\n    {\n      \"column\": \"acc_info\",\n      \"properties\": {\n        \"dtype\": \"category\",\n        \"num_unique_values\": 4,\n        \"samples\": [\n          \"A12\",\n          \"A13\",\n          \"A14\"\n        ],\n        \"semantic_type\": \"\",\n        \"description\": \"\"\n      }\n    },\n    {\n      \"column\": \"duration_month\",\n      \"properties\": {\n        \"dtype\": \"number\",\n        \"std\": 11,\n        \"min\": 4,\n        \"max\": 60,\n        \"num_unique_values\": 22,\n        \"samples\": [\n          24,\n          9,\n          8\n        ],\n        \"semantic_type\": \"\",\n        \"description\": \"\"\n      }\n    },\n    {\n      \"column\": \"credit_history\",\n      \"properties\": {\n        \"dtype\": \"category\",\n        \"num_unique_values\": 5,\n        \"samples\": [\n          \"A32\",\n          \"A33\",\n          \"A31\"\n        ],\n        \"semantic_type\": \"\",\n        \"description\": \"\"\n      }\n    },\n    {\n      \"column\": \"purpose\",\n      \"properties\": {\n        \"dtype\": \"category\",\n        \"num_unique_values\": 10,\n        \"samples\": [\n          \"A45\",\n          \"A43\",\n          \"A49\"\n        ],\n        \"semantic_type\": \"\",\n        \"description\": \"\"\n      }\n    },\n    {\n      \"column\": \"savings_acc\",\n      \"properties\": {\n        \"dtype\": \"category\",\n        \"num_unique_values\": 5,\n        \"samples\": [\n          \"A65\",\n          \"A64\",\n          \"A63\"\n        ],\n        \"semantic_type\": \"\",\n        \"description\": \"\"\n      }\n    },\n    {\n      \"column\": \"employment_st\",\n      \"properties\": {\n        \"dtype\": \"category\",\n        \"num_unique_values\": 5,\n        \"samples\": [\n          \"A71\",\n          \"A73\",\n          \"A74\"\n        ],\n        \"semantic_type\": \"\",\n        \"description\": \"\"\n      }\n    },\n    {\n      \"column\": \"poi\",\n      \"properties\": {\n        \"dtype\": \"number\",\n        \"std\": 1.0814075279963564,\n        \"min\": 1.0,\n        \"max\": 4.0,\n        \"num_unique_values\": 4,\n        \"samples\": [\n          3.0,\n          2.0,\n          4.0\n        ],\n        \"semantic_type\": \"\",\n        \"description\": \"\"\n      }\n    },\n    {\n      \"column\": \"personal_status\",\n      \"properties\": {\n        \"dtype\": \"category\",\n        \"num_unique_values\": 4,\n        \"samples\": [\n          \"A92\",\n          \"A91\",\n          \"A93\"\n        ],\n        \"semantic_type\": \"\",\n        \"description\": \"\"\n      }\n    },\n    {\n      \"column\": \"gurantors\",\n      \"properties\": {\n        \"dtype\": \"category\",\n        \"num_unique_values\": 3,\n        \"samples\": [\n          \"A101\",\n          \"A103\",\n          \"A102\"\n        ],\n        \"semantic_type\": \"\",\n        \"description\": \"\"\n      }\n    },\n    {\n      \"column\": \"resident_since\",\n      \"properties\": {\n        \"dtype\": \"number\",\n        \"std\": 1,\n        \"min\": 1,\n        \"max\": 4,\n        \"num_unique_values\": 4,\n        \"samples\": [\n          2,\n          3,\n          4\n        ],\n        \"semantic_type\": \"\",\n        \"description\": \"\"\n      }\n    },\n    {\n      \"column\": \"property_type\",\n      \"properties\": {\n        \"dtype\": \"category\",\n        \"num_unique_values\": 4,\n        \"samples\": [\n          \"A121\",\n          \"A123\",\n          \"A124\"\n        ],\n        \"semantic_type\": \"\",\n        \"description\": \"\"\n      }\n    },\n    {\n      \"column\": \"age\",\n      \"properties\": {\n        \"dtype\": \"number\",\n        \"std\": 11.05380765122213,\n        \"min\": 20.0,\n        \"max\": 68.0,\n        \"num_unique_values\": 42,\n        \"samples\": [\n          50.0,\n          47.0,\n          46.0\n        ],\n        \"semantic_type\": \"\",\n        \"description\": \"\"\n      }\n    },\n    {\n      \"column\": \"installment_type\",\n      \"properties\": {\n        \"dtype\": \"category\",\n        \"num_unique_values\": 3,\n        \"samples\": [\n          \"A143\",\n          \"A141\",\n          \"A142\"\n        ],\n        \"semantic_type\": \"\",\n        \"description\": \"\"\n      }\n    },\n    {\n      \"column\": \"housing_type\",\n      \"properties\": {\n        \"dtype\": \"category\",\n        \"num_unique_values\": 3,\n        \"samples\": [\n          \"A153\",\n          \"A151\",\n          \"A152\"\n        ],\n        \"semantic_type\": \"\",\n        \"description\": \"\"\n      }\n    },\n    {\n      \"column\": \"credits_no\",\n      \"properties\": {\n        \"dtype\": \"number\",\n        \"std\": 0,\n        \"min\": 1,\n        \"max\": 4,\n        \"num_unique_values\": 4,\n        \"samples\": [\n          1,\n          3,\n          2\n        ],\n        \"semantic_type\": \"\",\n        \"description\": \"\"\n      }\n    },\n    {\n      \"column\": \"job_type\",\n      \"properties\": {\n        \"dtype\": \"category\",\n        \"num_unique_values\": 4,\n        \"samples\": [\n          \"A172\",\n          \"A174\",\n          \"A173\"\n        ],\n        \"semantic_type\": \"\",\n        \"description\": \"\"\n      }\n    },\n    {\n      \"column\": \"liables\",\n      \"properties\": {\n        \"dtype\": \"number\",\n        \"std\": 0,\n        \"min\": 1,\n        \"max\": 2,\n        \"num_unique_values\": 2,\n        \"samples\": [\n          1,\n          2\n        ],\n        \"semantic_type\": \"\",\n        \"description\": \"\"\n      }\n    },\n    {\n      \"column\": \"telephone\",\n      \"properties\": {\n        \"dtype\": \"category\",\n        \"num_unique_values\": 2,\n        \"samples\": [\n          \"A192\",\n          \"A191\"\n        ],\n        \"semantic_type\": \"\",\n        \"description\": \"\"\n      }\n    },\n    {\n      \"column\": \"foreigner\",\n      \"properties\": {\n        \"dtype\": \"category\",\n        \"num_unique_values\": 2,\n        \"samples\": [\n          \"A202\",\n          \"A201\"\n        ],\n        \"semantic_type\": \"\",\n        \"description\": \"\"\n      }\n    }\n  ]\n}",
              "type": "dataframe",
              "variable_name": "test"
            },
            "text/html": [
              "\n",
              "  <div id=\"df-cafaaf5f-d76f-4ef8-a8a0-1113de8ad3b3\" class=\"colab-df-container\">\n",
              "    <div>\n",
              "<style scoped>\n",
              "    .dataframe tbody tr th:only-of-type {\n",
              "        vertical-align: middle;\n",
              "    }\n",
              "\n",
              "    .dataframe tbody tr th {\n",
              "        vertical-align: top;\n",
              "    }\n",
              "\n",
              "    .dataframe thead th {\n",
              "        text-align: right;\n",
              "    }\n",
              "</style>\n",
              "<table border=\"1\" class=\"dataframe\">\n",
              "  <thead>\n",
              "    <tr style=\"text-align: right;\">\n",
              "      <th></th>\n",
              "      <th>sno</th>\n",
              "      <th>acc_info</th>\n",
              "      <th>duration_month</th>\n",
              "      <th>credit_history</th>\n",
              "      <th>purpose</th>\n",
              "      <th>savings_acc</th>\n",
              "      <th>employment_st</th>\n",
              "      <th>poi</th>\n",
              "      <th>personal_status</th>\n",
              "      <th>gurantors</th>\n",
              "      <th>resident_since</th>\n",
              "      <th>property_type</th>\n",
              "      <th>age</th>\n",
              "      <th>installment_type</th>\n",
              "      <th>housing_type</th>\n",
              "      <th>credits_no</th>\n",
              "      <th>job_type</th>\n",
              "      <th>liables</th>\n",
              "      <th>telephone</th>\n",
              "      <th>foreigner</th>\n",
              "    </tr>\n",
              "  </thead>\n",
              "  <tbody>\n",
              "    <tr>\n",
              "      <th>0</th>\n",
              "      <td>1</td>\n",
              "      <td>A14</td>\n",
              "      <td>24</td>\n",
              "      <td>A34</td>\n",
              "      <td>A46</td>\n",
              "      <td>A61</td>\n",
              "      <td>A75</td>\n",
              "      <td>4.0</td>\n",
              "      <td>A93</td>\n",
              "      <td>A101</td>\n",
              "      <td>4</td>\n",
              "      <td>A124</td>\n",
              "      <td>54.0</td>\n",
              "      <td>A143</td>\n",
              "      <td>A153</td>\n",
              "      <td>2</td>\n",
              "      <td>A173</td>\n",
              "      <td>2</td>\n",
              "      <td>A191</td>\n",
              "      <td>A201</td>\n",
              "    </tr>\n",
              "    <tr>\n",
              "      <th>1</th>\n",
              "      <td>2</td>\n",
              "      <td>A12</td>\n",
              "      <td>18</td>\n",
              "      <td>A34</td>\n",
              "      <td>A43</td>\n",
              "      <td>A61</td>\n",
              "      <td>A75</td>\n",
              "      <td>3.0</td>\n",
              "      <td>A92</td>\n",
              "      <td>A103</td>\n",
              "      <td>4</td>\n",
              "      <td>A121</td>\n",
              "      <td>48.0</td>\n",
              "      <td>A141</td>\n",
              "      <td>A151</td>\n",
              "      <td>2</td>\n",
              "      <td>A172</td>\n",
              "      <td>1</td>\n",
              "      <td>A192</td>\n",
              "      <td>A201</td>\n",
              "    </tr>\n",
              "    <tr>\n",
              "      <th>2</th>\n",
              "      <td>3</td>\n",
              "      <td>A11</td>\n",
              "      <td>20</td>\n",
              "      <td>A34</td>\n",
              "      <td>A42</td>\n",
              "      <td>A61</td>\n",
              "      <td>A75</td>\n",
              "      <td>1.0</td>\n",
              "      <td>A92</td>\n",
              "      <td>A101</td>\n",
              "      <td>4</td>\n",
              "      <td>A122</td>\n",
              "      <td>24.0</td>\n",
              "      <td>A143</td>\n",
              "      <td>A152</td>\n",
              "      <td>2</td>\n",
              "      <td>A173</td>\n",
              "      <td>1</td>\n",
              "      <td>A191</td>\n",
              "      <td>A201</td>\n",
              "    </tr>\n",
              "    <tr>\n",
              "      <th>3</th>\n",
              "      <td>4</td>\n",
              "      <td>A14</td>\n",
              "      <td>12</td>\n",
              "      <td>A34</td>\n",
              "      <td>A43</td>\n",
              "      <td>A65</td>\n",
              "      <td>A75</td>\n",
              "      <td>4.0</td>\n",
              "      <td>A93</td>\n",
              "      <td>A101</td>\n",
              "      <td>4</td>\n",
              "      <td>A123</td>\n",
              "      <td>35.0</td>\n",
              "      <td>A143</td>\n",
              "      <td>A152</td>\n",
              "      <td>2</td>\n",
              "      <td>A173</td>\n",
              "      <td>1</td>\n",
              "      <td>A191</td>\n",
              "      <td>A201</td>\n",
              "    </tr>\n",
              "    <tr>\n",
              "      <th>4</th>\n",
              "      <td>5</td>\n",
              "      <td>A12</td>\n",
              "      <td>12</td>\n",
              "      <td>A32</td>\n",
              "      <td>A40</td>\n",
              "      <td>A65</td>\n",
              "      <td>A71</td>\n",
              "      <td>1.0</td>\n",
              "      <td>A92</td>\n",
              "      <td>A101</td>\n",
              "      <td>2</td>\n",
              "      <td>A121</td>\n",
              "      <td>24.0</td>\n",
              "      <td>A143</td>\n",
              "      <td>A151</td>\n",
              "      <td>1</td>\n",
              "      <td>A171</td>\n",
              "      <td>1</td>\n",
              "      <td>A191</td>\n",
              "      <td>A201</td>\n",
              "    </tr>\n",
              "  </tbody>\n",
              "</table>\n",
              "</div>\n",
              "    <div class=\"colab-df-buttons\">\n",
              "\n",
              "  <div class=\"colab-df-container\">\n",
              "    <button class=\"colab-df-convert\" onclick=\"convertToInteractive('df-cafaaf5f-d76f-4ef8-a8a0-1113de8ad3b3')\"\n",
              "            title=\"Convert this dataframe to an interactive table.\"\n",
              "            style=\"display:none;\">\n",
              "\n",
              "  <svg xmlns=\"http://www.w3.org/2000/svg\" height=\"24px\" viewBox=\"0 -960 960 960\">\n",
              "    <path d=\"M120-120v-720h720v720H120Zm60-500h600v-160H180v160Zm220 220h160v-160H400v160Zm0 220h160v-160H400v160ZM180-400h160v-160H180v160Zm440 0h160v-160H620v160ZM180-180h160v-160H180v160Zm440 0h160v-160H620v160Z\"/>\n",
              "  </svg>\n",
              "    </button>\n",
              "\n",
              "  <style>\n",
              "    .colab-df-container {\n",
              "      display:flex;\n",
              "      gap: 12px;\n",
              "    }\n",
              "\n",
              "    .colab-df-convert {\n",
              "      background-color: #E8F0FE;\n",
              "      border: none;\n",
              "      border-radius: 50%;\n",
              "      cursor: pointer;\n",
              "      display: none;\n",
              "      fill: #1967D2;\n",
              "      height: 32px;\n",
              "      padding: 0 0 0 0;\n",
              "      width: 32px;\n",
              "    }\n",
              "\n",
              "    .colab-df-convert:hover {\n",
              "      background-color: #E2EBFA;\n",
              "      box-shadow: 0px 1px 2px rgba(60, 64, 67, 0.3), 0px 1px 3px 1px rgba(60, 64, 67, 0.15);\n",
              "      fill: #174EA6;\n",
              "    }\n",
              "\n",
              "    .colab-df-buttons div {\n",
              "      margin-bottom: 4px;\n",
              "    }\n",
              "\n",
              "    [theme=dark] .colab-df-convert {\n",
              "      background-color: #3B4455;\n",
              "      fill: #D2E3FC;\n",
              "    }\n",
              "\n",
              "    [theme=dark] .colab-df-convert:hover {\n",
              "      background-color: #434B5C;\n",
              "      box-shadow: 0px 1px 3px 1px rgba(0, 0, 0, 0.15);\n",
              "      filter: drop-shadow(0px 1px 2px rgba(0, 0, 0, 0.3));\n",
              "      fill: #FFFFFF;\n",
              "    }\n",
              "  </style>\n",
              "\n",
              "    <script>\n",
              "      const buttonEl =\n",
              "        document.querySelector('#df-cafaaf5f-d76f-4ef8-a8a0-1113de8ad3b3 button.colab-df-convert');\n",
              "      buttonEl.style.display =\n",
              "        google.colab.kernel.accessAllowed ? 'block' : 'none';\n",
              "\n",
              "      async function convertToInteractive(key) {\n",
              "        const element = document.querySelector('#df-cafaaf5f-d76f-4ef8-a8a0-1113de8ad3b3');\n",
              "        const dataTable =\n",
              "          await google.colab.kernel.invokeFunction('convertToInteractive',\n",
              "                                                    [key], {});\n",
              "        if (!dataTable) return;\n",
              "\n",
              "        const docLinkHtml = 'Like what you see? Visit the ' +\n",
              "          '<a target=\"_blank\" href=https://colab.research.google.com/notebooks/data_table.ipynb>data table notebook</a>'\n",
              "          + ' to learn more about interactive tables.';\n",
              "        element.innerHTML = '';\n",
              "        dataTable['output_type'] = 'display_data';\n",
              "        await google.colab.output.renderOutput(dataTable, element);\n",
              "        const docLink = document.createElement('div');\n",
              "        docLink.innerHTML = docLinkHtml;\n",
              "        element.appendChild(docLink);\n",
              "      }\n",
              "    </script>\n",
              "  </div>\n",
              "\n",
              "\n",
              "<div id=\"df-e51a8588-24bc-4957-a39e-68a29c01852f\">\n",
              "  <button class=\"colab-df-quickchart\" onclick=\"quickchart('df-e51a8588-24bc-4957-a39e-68a29c01852f')\"\n",
              "            title=\"Suggest charts\"\n",
              "            style=\"display:none;\">\n",
              "\n",
              "<svg xmlns=\"http://www.w3.org/2000/svg\" height=\"24px\"viewBox=\"0 0 24 24\"\n",
              "     width=\"24px\">\n",
              "    <g>\n",
              "        <path d=\"M19 3H5c-1.1 0-2 .9-2 2v14c0 1.1.9 2 2 2h14c1.1 0 2-.9 2-2V5c0-1.1-.9-2-2-2zM9 17H7v-7h2v7zm4 0h-2V7h2v10zm4 0h-2v-4h2v4z\"/>\n",
              "    </g>\n",
              "</svg>\n",
              "  </button>\n",
              "\n",
              "<style>\n",
              "  .colab-df-quickchart {\n",
              "      --bg-color: #E8F0FE;\n",
              "      --fill-color: #1967D2;\n",
              "      --hover-bg-color: #E2EBFA;\n",
              "      --hover-fill-color: #174EA6;\n",
              "      --disabled-fill-color: #AAA;\n",
              "      --disabled-bg-color: #DDD;\n",
              "  }\n",
              "\n",
              "  [theme=dark] .colab-df-quickchart {\n",
              "      --bg-color: #3B4455;\n",
              "      --fill-color: #D2E3FC;\n",
              "      --hover-bg-color: #434B5C;\n",
              "      --hover-fill-color: #FFFFFF;\n",
              "      --disabled-bg-color: #3B4455;\n",
              "      --disabled-fill-color: #666;\n",
              "  }\n",
              "\n",
              "  .colab-df-quickchart {\n",
              "    background-color: var(--bg-color);\n",
              "    border: none;\n",
              "    border-radius: 50%;\n",
              "    cursor: pointer;\n",
              "    display: none;\n",
              "    fill: var(--fill-color);\n",
              "    height: 32px;\n",
              "    padding: 0;\n",
              "    width: 32px;\n",
              "  }\n",
              "\n",
              "  .colab-df-quickchart:hover {\n",
              "    background-color: var(--hover-bg-color);\n",
              "    box-shadow: 0 1px 2px rgba(60, 64, 67, 0.3), 0 1px 3px 1px rgba(60, 64, 67, 0.15);\n",
              "    fill: var(--button-hover-fill-color);\n",
              "  }\n",
              "\n",
              "  .colab-df-quickchart-complete:disabled,\n",
              "  .colab-df-quickchart-complete:disabled:hover {\n",
              "    background-color: var(--disabled-bg-color);\n",
              "    fill: var(--disabled-fill-color);\n",
              "    box-shadow: none;\n",
              "  }\n",
              "\n",
              "  .colab-df-spinner {\n",
              "    border: 2px solid var(--fill-color);\n",
              "    border-color: transparent;\n",
              "    border-bottom-color: var(--fill-color);\n",
              "    animation:\n",
              "      spin 1s steps(1) infinite;\n",
              "  }\n",
              "\n",
              "  @keyframes spin {\n",
              "    0% {\n",
              "      border-color: transparent;\n",
              "      border-bottom-color: var(--fill-color);\n",
              "      border-left-color: var(--fill-color);\n",
              "    }\n",
              "    20% {\n",
              "      border-color: transparent;\n",
              "      border-left-color: var(--fill-color);\n",
              "      border-top-color: var(--fill-color);\n",
              "    }\n",
              "    30% {\n",
              "      border-color: transparent;\n",
              "      border-left-color: var(--fill-color);\n",
              "      border-top-color: var(--fill-color);\n",
              "      border-right-color: var(--fill-color);\n",
              "    }\n",
              "    40% {\n",
              "      border-color: transparent;\n",
              "      border-right-color: var(--fill-color);\n",
              "      border-top-color: var(--fill-color);\n",
              "    }\n",
              "    60% {\n",
              "      border-color: transparent;\n",
              "      border-right-color: var(--fill-color);\n",
              "    }\n",
              "    80% {\n",
              "      border-color: transparent;\n",
              "      border-right-color: var(--fill-color);\n",
              "      border-bottom-color: var(--fill-color);\n",
              "    }\n",
              "    90% {\n",
              "      border-color: transparent;\n",
              "      border-bottom-color: var(--fill-color);\n",
              "    }\n",
              "  }\n",
              "</style>\n",
              "\n",
              "  <script>\n",
              "    async function quickchart(key) {\n",
              "      const quickchartButtonEl =\n",
              "        document.querySelector('#' + key + ' button');\n",
              "      quickchartButtonEl.disabled = true;  // To prevent multiple clicks.\n",
              "      quickchartButtonEl.classList.add('colab-df-spinner');\n",
              "      try {\n",
              "        const charts = await google.colab.kernel.invokeFunction(\n",
              "            'suggestCharts', [key], {});\n",
              "      } catch (error) {\n",
              "        console.error('Error during call to suggestCharts:', error);\n",
              "      }\n",
              "      quickchartButtonEl.classList.remove('colab-df-spinner');\n",
              "      quickchartButtonEl.classList.add('colab-df-quickchart-complete');\n",
              "    }\n",
              "    (() => {\n",
              "      let quickchartButtonEl =\n",
              "        document.querySelector('#df-e51a8588-24bc-4957-a39e-68a29c01852f button');\n",
              "      quickchartButtonEl.style.display =\n",
              "        google.colab.kernel.accessAllowed ? 'block' : 'none';\n",
              "    })();\n",
              "  </script>\n",
              "</div>\n",
              "\n",
              "    </div>\n",
              "  </div>\n"
            ],
            "text/plain": [
              "   sno acc_info  duration_month credit_history purpose savings_acc  \\\n",
              "0    1      A14              24            A34     A46         A61   \n",
              "1    2      A12              18            A34     A43         A61   \n",
              "2    3      A11              20            A34     A42         A61   \n",
              "3    4      A14              12            A34     A43         A65   \n",
              "4    5      A12              12            A32     A40         A65   \n",
              "\n",
              "  employment_st  poi personal_status gurantors  resident_since property_type  \\\n",
              "0           A75  4.0             A93      A101               4          A124   \n",
              "1           A75  3.0             A92      A103               4          A121   \n",
              "2           A75  1.0             A92      A101               4          A122   \n",
              "3           A75  4.0             A93      A101               4          A123   \n",
              "4           A71  1.0             A92      A101               2          A121   \n",
              "\n",
              "    age installment_type housing_type  credits_no job_type  liables telephone  \\\n",
              "0  54.0             A143         A153           2     A173        2      A191   \n",
              "1  48.0             A141         A151           2     A172        1      A192   \n",
              "2  24.0             A143         A152           2     A173        1      A191   \n",
              "3  35.0             A143         A152           2     A173        1      A191   \n",
              "4  24.0             A143         A151           1     A171        1      A191   \n",
              "\n",
              "  foreigner  \n",
              "0      A201  \n",
              "1      A201  \n",
              "2      A201  \n",
              "3      A201  \n",
              "4      A201  "
            ]
          },
          "execution_count": 10,
          "metadata": {},
          "output_type": "execute_result"
        }
      ],
      "source": [
        "test.head()"
      ]
    },
    {
      "cell_type": "code",
      "execution_count": 73,
      "metadata": {
        "colab": {
          "base_uri": "https://localhost:8080/"
        },
        "id": "ey3zwlXdhdv0",
        "outputId": "c8542eec-c74a-4a02-a34b-3087ca18b7f2"
      },
      "outputs": [
        {
          "output_type": "execute_result",
          "data": {
            "text/plain": [
              "sno                 0\n",
              "acc_info            0\n",
              "duration_month      0\n",
              "credit_history      0\n",
              "purpose             0\n",
              "savings_acc         0\n",
              "employment_st       0\n",
              "poi                 0\n",
              "personal_status     0\n",
              "gurantors           0\n",
              "resident_since      0\n",
              "property_type       0\n",
              "age                 0\n",
              "installment_type    0\n",
              "housing_type        0\n",
              "credits_no          0\n",
              "job_type            0\n",
              "liables             0\n",
              "telephone           0\n",
              "foreigner           0\n",
              "Group_no            0\n",
              "dtype: int64"
            ]
          },
          "metadata": {},
          "execution_count": 73
        }
      ],
      "source": [
        "train.isnull().sum()"
      ]
    },
    {
      "cell_type": "code",
      "execution_count": 74,
      "metadata": {
        "colab": {
          "base_uri": "https://localhost:8080/"
        },
        "id": "WExOAJHmhwLG",
        "outputId": "26b0f410-4939-47c8-c115-f887b13a8b57"
      },
      "outputs": [
        {
          "output_type": "execute_result",
          "data": {
            "text/plain": [
              "sno                 0\n",
              "acc_info            0\n",
              "duration_month      0\n",
              "credit_history      0\n",
              "purpose             0\n",
              "savings_acc         0\n",
              "employment_st       0\n",
              "poi                 0\n",
              "personal_status     0\n",
              "gurantors           0\n",
              "resident_since      0\n",
              "property_type       0\n",
              "age                 0\n",
              "installment_type    0\n",
              "housing_type        0\n",
              "credits_no          0\n",
              "job_type            0\n",
              "liables             0\n",
              "telephone           0\n",
              "foreigner           0\n",
              "dtype: int64"
            ]
          },
          "metadata": {},
          "execution_count": 74
        }
      ],
      "source": [
        "test.isnull().sum()"
      ]
    },
    {
      "cell_type": "code",
      "execution_count": null,
      "metadata": {
        "colab": {
          "base_uri": "https://localhost:8080/"
        },
        "id": "7v3UtOHXhztr",
        "outputId": "c0e52278-5850-4d16-8caa-42ef7d526f09"
      },
      "outputs": [
        {
          "data": {
            "text/plain": [
              "array(['A11', 'A12', 'A14', 'A13'], dtype=object)"
            ]
          },
          "execution_count": 14,
          "metadata": {},
          "output_type": "execute_result"
        }
      ],
      "source": [
        "train['acc_info'].unique()"
      ]
    },
    {
      "cell_type": "code",
      "execution_count": null,
      "metadata": {
        "colab": {
          "base_uri": "https://localhost:8080/"
        },
        "id": "U-NNIussh2Nn",
        "outputId": "c28e7806-c0b9-4026-8b0e-218abb1cbd40"
      },
      "outputs": [
        {
          "name": "stdout",
          "output_type": "stream",
          "text": [
            "Error: One or more keys in the account dictionary do not exist in the 'acc_info' column.\n"
          ]
        }
      ],
      "source": [
        "account = {'A11': 1, 'A12': 2, 'A13': 3, 'A14': 4}\n",
        "\n",
        "# Check if all keys in the account dictionary exist in the 'acc_info' column\n",
        "if set(account.keys()).issubset(train['acc_info'].unique()) and set(account.keys()).issubset(test['acc_info'].unique()):\n",
        "    train['acc_info'] = train['acc_info'].replace(account)\n",
        "    test['acc_info'] = test['acc_info'].replace(account)\n",
        "else:\n",
        "    print(\"Error: One or more keys in the account dictionary do not exist in the 'acc_info' column.\")\n"
      ]
    },
    {
      "cell_type": "code",
      "execution_count": null,
      "metadata": {
        "colab": {
          "base_uri": "https://localhost:8080/"
        },
        "id": "12kK1IOQiEQC",
        "outputId": "6ed622af-2c6e-44a1-89f8-0426c6700e48"
      },
      "outputs": [
        {
          "data": {
            "text/plain": [
              "234     4\n",
              "314     4\n",
              "734     4\n",
              "527     4\n",
              "430     5\n",
              "       ..\n",
              "255    60\n",
              "616    60\n",
              "714    60\n",
              "373    60\n",
              "677    72\n",
              "Name: duration_month, Length: 800, dtype: int64"
            ]
          },
          "execution_count": 17,
          "metadata": {},
          "output_type": "execute_result"
        }
      ],
      "source": [
        "train['duration_month'].sort_values()"
      ]
    },
    {
      "cell_type": "code",
      "execution_count": null,
      "metadata": {
        "id": "hcTqJR96iO51"
      },
      "outputs": [],
      "source": [
        "# Calculate min and max values for 'duration_month' column\n",
        "min_value = min(train['duration_month'].min(), test['duration_month'].min())\n",
        "max_value = max(train['duration_month'].max(), test['duration_month'].max())\n",
        "\n",
        "# Normalize 'duration_month' column for train DataFrame\n",
        "train['duration_month'] = (train['duration_month'] - min_value) / (max_value - min_value)\n",
        "\n",
        "# Normalize 'duration_month' column for test DataFrame\n",
        "test['duration_month'] = (test['duration_month'] - min_value) / (max_value - min_value)\n"
      ]
    },
    {
      "cell_type": "code",
      "execution_count": null,
      "metadata": {
        "colab": {
          "base_uri": "https://localhost:8080/"
        },
        "id": "guEvTSQPid_T",
        "outputId": "3f4fb1d4-2603-4f88-dde8-b68334c68305"
      },
      "outputs": [
        {
          "data": {
            "text/plain": [
              "234    0.000000\n",
              "314    0.000000\n",
              "734    0.000000\n",
              "527    0.000000\n",
              "430    0.014706\n",
              "         ...   \n",
              "255    0.823529\n",
              "616    0.823529\n",
              "714    0.823529\n",
              "373    0.823529\n",
              "677    1.000000\n",
              "Name: duration_month, Length: 800, dtype: float64"
            ]
          },
          "execution_count": 19,
          "metadata": {},
          "output_type": "execute_result"
        }
      ],
      "source": [
        "train['duration_month'].sort_values()"
      ]
    },
    {
      "cell_type": "code",
      "execution_count": null,
      "metadata": {
        "colab": {
          "base_uri": "https://localhost:8080/"
        },
        "id": "zbdfMiMhi23s",
        "outputId": "fbbbb3be-6ade-455d-d19f-4995920d6e1e"
      },
      "outputs": [
        {
          "data": {
            "text/plain": [
              "array(['A34', 'A32', 'A33', 'A30', 'A31'], dtype=object)"
            ]
          },
          "execution_count": 20,
          "metadata": {},
          "output_type": "execute_result"
        }
      ],
      "source": [
        "train['credit_history'].unique()"
      ]
    },
    {
      "cell_type": "code",
      "execution_count": null,
      "metadata": {
        "id": "pM2J6hLvi5pL"
      },
      "outputs": [],
      "source": [
        "credit = {'A30': 0, 'A31': 1, 'A32': 2, 'A33': 3, 'A34': 4}\n",
        "\n",
        "# Replace values in 'credit_history' column for train DataFrame\n",
        "train['credit_history'] = train['credit_history'].map(credit)\n",
        "\n",
        "# Replace values in 'credit_history' column for test DataFrame\n",
        "test['credit_history'] = test['credit_history'].map(credit)\n"
      ]
    },
    {
      "cell_type": "code",
      "execution_count": null,
      "metadata": {
        "colab": {
          "base_uri": "https://localhost:8080/"
        },
        "id": "RR_spapvjKBn",
        "outputId": "d62aad88-4084-4b02-db4f-160615ac8395"
      },
      "outputs": [
        {
          "data": {
            "text/plain": [
              "array(['A43', 'A46', 'A42', 'A40', 'A41', 'A49', 'A44', 'A45', 'A410',\n",
              "       'A48'], dtype=object)"
            ]
          },
          "execution_count": 22,
          "metadata": {},
          "output_type": "execute_result"
        }
      ],
      "source": [
        "train['purpose'].unique()"
      ]
    },
    {
      "cell_type": "code",
      "execution_count": null,
      "metadata": {
        "id": "RdBwanBojMHd"
      },
      "outputs": [],
      "source": [
        "purpose = {\n",
        "    'A40': 0, 'A41': 1, 'A42': 2, 'A43': 3, 'A44': 4,\n",
        "    'A45': 5, 'A46': 6, 'A48': 7, 'A49': 8, 'A410': 9\n",
        "}\n",
        "\n",
        "# Replace values in 'purpose' column for train DataFrame\n",
        "train['purpose'] = train['purpose'].map(purpose)\n",
        "\n",
        "# Replace values in 'purpose' column for test DataFrame\n",
        "test['purpose'] = test['purpose'].map(purpose)\n"
      ]
    },
    {
      "cell_type": "code",
      "execution_count": null,
      "metadata": {
        "colab": {
          "base_uri": "https://localhost:8080/"
        },
        "id": "RXHv4DYHjen8",
        "outputId": "1345aaf3-61ab-4310-b141-2780f2ca362c"
      },
      "outputs": [
        {
          "data": {
            "text/plain": [
              "array(['A65', 'A61', 'A63', 'A64', 'A62'], dtype=object)"
            ]
          },
          "execution_count": 24,
          "metadata": {},
          "output_type": "execute_result"
        }
      ],
      "source": [
        "train['savings_acc'].unique()"
      ]
    },
    {
      "cell_type": "code",
      "execution_count": null,
      "metadata": {
        "id": "x0OEbhuzjhTe"
      },
      "outputs": [],
      "source": [
        "savings = {'A61': 1, 'A62': 2, 'A63': 3, 'A64': 4, 'A65': 5}\n",
        "\n",
        "# Replace values in 'savings_acc' column for train DataFrame\n",
        "train['savings_acc'] = train['savings_acc'].map(savings)\n",
        "\n",
        "# Replace values in 'savings_acc' column for test DataFrame\n",
        "test['savings_acc'] = test['savings_acc'].map(savings)\n"
      ]
    },
    {
      "cell_type": "code",
      "execution_count": null,
      "metadata": {
        "colab": {
          "base_uri": "https://localhost:8080/"
        },
        "id": "7-YA0Subjt1A",
        "outputId": "f1427e49-9ecf-4790-a596-90388a9ab486"
      },
      "outputs": [
        {
          "data": {
            "text/plain": [
              "array(['A75', 'A73', 'A74', 'A71', 'A72', nan], dtype=object)"
            ]
          },
          "execution_count": 26,
          "metadata": {},
          "output_type": "execute_result"
        }
      ],
      "source": [
        "train['employment_st'].unique()"
      ]
    },
    {
      "cell_type": "code",
      "execution_count": null,
      "metadata": {
        "id": "muB35KwGjxHo"
      },
      "outputs": [],
      "source": [
        "import numpy as np\n",
        "\n",
        "emp = {'A71': 1, 'A72': 2, 'A73': 3, 'A74': 4, 'A75': 5, np.NaN: 0}\n",
        "\n",
        "# Replace values in 'employment_st' column for train DataFrame\n",
        "train['employment_st'] = train['employment_st'].map(emp)\n",
        "\n",
        "# Replace values in 'employment_st' column for test DataFrame\n",
        "test['employment_st'] = test['employment_st'].map(emp)\n"
      ]
    },
    {
      "cell_type": "code",
      "execution_count": null,
      "metadata": {
        "id": "UgjpMCkaj84M"
      },
      "outputs": [],
      "source": [
        "# Fill NaN values in 'employment_st' column with 0 for test DataFrame\n",
        "test['employment_st'] = test['employment_st'].fillna(0)\n",
        "\n",
        "# Fill NaN values in 'employment_st' column with 0 for train DataFrame\n",
        "train['employment_st'] = train['employment_st'].fillna(0)\n"
      ]
    },
    {
      "cell_type": "code",
      "execution_count": null,
      "metadata": {
        "id": "P_43IvolkD0X"
      },
      "outputs": [],
      "source": [
        "# Fill NaN values in 'poi' column with '0' for train DataFrame\n",
        "train['poi'] = train['poi'].fillna('0')\n",
        "\n",
        "# Fill NaN values in 'poi' column with '0' for test DataFrame\n",
        "test['poi'] = test['poi'].fillna('0')\n"
      ]
    },
    {
      "cell_type": "code",
      "execution_count": null,
      "metadata": {
        "colab": {
          "base_uri": "https://localhost:8080/"
        },
        "id": "_UmAMsLbkKD0",
        "outputId": "19fd57ff-3dc0-447d-d68a-164d23db1980"
      },
      "outputs": [
        {
          "data": {
            "text/plain": [
              "array(['A93', 'A92', 'A91', 'A94'], dtype=object)"
            ]
          },
          "execution_count": 31,
          "metadata": {},
          "output_type": "execute_result"
        }
      ],
      "source": [
        "train['personal_status'].unique()"
      ]
    },
    {
      "cell_type": "code",
      "execution_count": null,
      "metadata": {
        "id": "e70XxTM6kMvY"
      },
      "outputs": [],
      "source": [
        "# Define a dictionary to map personal_status values to numeric values\n",
        "pers = {'A91': 1, 'A92': 2, 'A93': 3, 'A94': 4}\n",
        "\n",
        "# Replace values in 'personal_status' column for train DataFrame using the pers dictionary\n",
        "train['personal_status'] = train['personal_status'].replace(pers)\n",
        "\n",
        "# Replace values in 'personal_status' column for test DataFrame using the pers dictionary\n",
        "test['personal_status'] = test['personal_status'].replace(pers)\n"
      ]
    },
    {
      "cell_type": "code",
      "execution_count": null,
      "metadata": {
        "colab": {
          "base_uri": "https://localhost:8080/"
        },
        "id": "bOMoNsnSkYsW",
        "outputId": "e8dc862a-1753-4650-acb8-e703c19d26e3"
      },
      "outputs": [
        {
          "data": {
            "text/plain": [
              "array(['A101', 'A103', 'A102', nan], dtype=object)"
            ]
          },
          "execution_count": 33,
          "metadata": {},
          "output_type": "execute_result"
        }
      ],
      "source": [
        "train['gurantors'].unique()"
      ]
    },
    {
      "cell_type": "code",
      "execution_count": null,
      "metadata": {
        "id": "2XebnZvukbqQ"
      },
      "outputs": [],
      "source": [
        "# Define a dictionary to map 'gurantors' values to numeric values\n",
        "gurators = {'A101': 1, 'A102': 2, 'A103': 3}\n",
        "\n",
        "# Replace values in 'gurantors' column for train DataFrame using the gurators dictionary\n",
        "train['gurantors'] = train['gurantors'].replace(gurators)\n",
        "\n",
        "# Replace values in 'gurantors' column for test DataFrame using the gurators dictionary\n",
        "test['gurantors'] = test['gurantors'].replace(gurators)\n"
      ]
    },
    {
      "cell_type": "code",
      "execution_count": null,
      "metadata": {
        "id": "1s_-jnEdkqBx"
      },
      "outputs": [],
      "source": [
        "# Fill NaN values in 'gurantors' column with '0' for train DataFrame\n",
        "train['gurantors'] = train['gurantors'].fillna('0')\n",
        "\n",
        "# Fill NaN values in 'gurantors' column with '0' for test DataFrame\n",
        "test['gurantors'] = test['gurantors'].fillna('0')\n"
      ]
    },
    {
      "cell_type": "code",
      "execution_count": null,
      "metadata": {
        "colab": {
          "base_uri": "https://localhost:8080/"
        },
        "id": "9d7QfpaIksRv",
        "outputId": "cf402579-a32f-4432-8d99-27538d130c80"
      },
      "outputs": [
        {
          "data": {
            "text/plain": [
              "399    1\n",
              "115    1\n",
              "114    1\n",
              "562    1\n",
              "188    1\n",
              "      ..\n",
              "471    4\n",
              "151    4\n",
              "153    4\n",
              "482    4\n",
              "0      4\n",
              "Name: resident_since, Length: 800, dtype: int64"
            ]
          },
          "execution_count": 36,
          "metadata": {},
          "output_type": "execute_result"
        }
      ],
      "source": [
        "train['resident_since'].sort_values()"
      ]
    },
    {
      "cell_type": "code",
      "execution_count": null,
      "metadata": {
        "colab": {
          "base_uri": "https://localhost:8080/"
        },
        "id": "WzADWjtikzhX",
        "outputId": "d20bd11e-0674-468a-a232-1861f675b926"
      },
      "outputs": [
        {
          "data": {
            "text/plain": [
              "73     1\n",
              "145    1\n",
              "182    1\n",
              "118    1\n",
              "66     1\n",
              "      ..\n",
              "81     4\n",
              "76     4\n",
              "75     4\n",
              "70     4\n",
              "199    4\n",
              "Name: resident_since, Length: 200, dtype: int64"
            ]
          },
          "execution_count": 37,
          "metadata": {},
          "output_type": "execute_result"
        }
      ],
      "source": [
        "test['resident_since'].sort_values()"
      ]
    },
    {
      "cell_type": "code",
      "execution_count": null,
      "metadata": {
        "colab": {
          "base_uri": "https://localhost:8080/"
        },
        "id": "uh8NybRPk2jc",
        "outputId": "a27d2d76-364c-45ee-a0c4-b11032b69ed8"
      },
      "outputs": [
        {
          "data": {
            "text/plain": [
              "array(['A121', 'A122', 'A124', 'A123'], dtype=object)"
            ]
          },
          "execution_count": 38,
          "metadata": {},
          "output_type": "execute_result"
        }
      ],
      "source": [
        "train['property_type'].unique()"
      ]
    },
    {
      "cell_type": "code",
      "execution_count": null,
      "metadata": {
        "id": "Wot6Q_CEk5PU"
      },
      "outputs": [],
      "source": [
        "# Define a dictionary to map 'property_type' values to numeric values\n",
        "prop = {'A121': 1, 'A122': 2, 'A123': 3, 'A124': 4}\n",
        "\n",
        "# Replace values in 'property_type' column for train DataFrame using the prop dictionary\n",
        "train['property_type'] = train['property_type'].replace(prop)\n",
        "\n",
        "# Replace values in 'property_type' column for test DataFrame using the prop dictionary\n",
        "test['property_type'] = test['property_type'].replace(prop)\n"
      ]
    },
    {
      "cell_type": "code",
      "execution_count": null,
      "metadata": {
        "colab": {
          "base_uri": "https://localhost:8080/"
        },
        "id": "tAw-nTdPlGaC",
        "outputId": "316e8e0f-89b3-4317-cbb8-8f75ad552a64"
      },
      "outputs": [
        {
          "name": "stdout",
          "output_type": "stream",
          "text": [
            "35.40829145728643\n"
          ]
        }
      ],
      "source": [
        "# Calculate the mean value of the 'age' column in the train DataFrame\n",
        "mean_value = train['age'].mean()\n",
        "\n",
        "# Print the calculated mean value\n",
        "print(mean_value)\n"
      ]
    },
    {
      "cell_type": "code",
      "execution_count": null,
      "metadata": {
        "id": "gq9HvTUQlJW0"
      },
      "outputs": [],
      "source": [
        "# Fill NaN values in 'age' column with the calculated mean value for train DataFrame\n",
        "train['age'] = train['age'].fillna(mean_value)\n",
        "\n",
        "# Fill NaN values in 'age' column with the calculated mean value for test DataFrame\n",
        "test['age'] = test['age'].fillna(mean_value)\n"
      ]
    },
    {
      "cell_type": "code",
      "execution_count": null,
      "metadata": {
        "colab": {
          "base_uri": "https://localhost:8080/"
        },
        "id": "oQF3s7FplXIT",
        "outputId": "0973420e-49db-446c-adb3-3c89bcde6e68"
      },
      "outputs": [
        {
          "data": {
            "text/plain": [
              "array(['A143', 'A141', 'A142'], dtype=object)"
            ]
          },
          "execution_count": 42,
          "metadata": {},
          "output_type": "execute_result"
        }
      ],
      "source": [
        "train['installment_type'].unique()"
      ]
    },
    {
      "cell_type": "code",
      "execution_count": null,
      "metadata": {
        "id": "OPGOsqwklZUR"
      },
      "outputs": [],
      "source": [
        "# Define a dictionary to map 'installment_type' values to numeric values\n",
        "inst = {'A141': 1, 'A142': 2, 'A143': 3}\n",
        "\n",
        "# Replace values in 'installment_type' column for train DataFrame using the inst dictionary\n",
        "train['installment_type'] = train['installment_type'].replace(inst)\n",
        "\n",
        "# Replace values in 'installment_type' column for test DataFrame using the inst dictionary\n",
        "test['installment_type'] = test['installment_type'].replace(inst)\n"
      ]
    },
    {
      "cell_type": "code",
      "execution_count": null,
      "metadata": {
        "colab": {
          "base_uri": "https://localhost:8080/"
        },
        "id": "77qLB_i4lkXF",
        "outputId": "881cf7cb-9ed1-4d22-8401-13329335bd23"
      },
      "outputs": [
        {
          "data": {
            "text/plain": [
              "array(['A152', 'A153', 'A151', nan], dtype=object)"
            ]
          },
          "execution_count": 44,
          "metadata": {},
          "output_type": "execute_result"
        }
      ],
      "source": [
        "train['housing_type'].unique()"
      ]
    },
    {
      "cell_type": "code",
      "execution_count": null,
      "metadata": {
        "id": "GVUh5nASlmxo"
      },
      "outputs": [],
      "source": [
        "# Define a dictionary to map 'housing_type' values to numeric values\n",
        "house = {'A151': 1, 'A152': 2, 'A153': 3}\n",
        "\n",
        "# Replace values in 'housing_type' column for train DataFrame using the house dictionary\n",
        "train['housing_type'] = train['housing_type'].replace(house)\n",
        "\n",
        "# Replace values in 'housing_type' column for test DataFrame using the house dictionary\n",
        "test['housing_type'] = test['housing_type'].replace(house)\n"
      ]
    },
    {
      "cell_type": "code",
      "execution_count": null,
      "metadata": {
        "id": "NWLfivDzl0xk"
      },
      "outputs": [],
      "source": [
        "# Fill NaN values in 'housing_type' column with '0' for train DataFrame\n",
        "train['housing_type'] = train['housing_type'].fillna('0')\n",
        "\n",
        "# Fill NaN values in 'housing_type' column with '0' for test DataFrame\n",
        "test['housing_type'] = test['housing_type'].fillna('0')\n"
      ]
    },
    {
      "cell_type": "code",
      "execution_count": null,
      "metadata": {
        "colab": {
          "base_uri": "https://localhost:8080/"
        },
        "id": "ylJt-atzl8SV",
        "outputId": "59283ebd-b660-496f-a3e2-9a73aae3ff9b"
      },
      "outputs": [
        {
          "data": {
            "text/plain": [
              "799    1\n",
              "386    1\n",
              "660    1\n",
              "661    1\n",
              "383    1\n",
              "      ..\n",
              "432    3\n",
              "590    4\n",
              "653    4\n",
              "65     4\n",
              "197    4\n",
              "Name: credits_no, Length: 800, dtype: int64"
            ]
          },
          "execution_count": 47,
          "metadata": {},
          "output_type": "execute_result"
        }
      ],
      "source": [
        "train['credits_no'].sort_values()"
      ]
    },
    {
      "cell_type": "code",
      "execution_count": null,
      "metadata": {
        "id": "Shrj_aiwl-Gb"
      },
      "outputs": [],
      "source": [
        "# Calculate the minimum and maximum values of 'credits_no' column for test DataFrame\n",
        "min_value_test = test['credits_no'].min()\n",
        "max_value_test = test['credits_no'].max()\n",
        "\n",
        "# Normalize 'credits_no' column for test DataFrame\n",
        "test['credits_no'] = (test['credits_no'] - min_value_test) / (max_value_test - min_value_test)\n",
        "\n",
        "# Calculate the minimum and maximum values of 'credits_no' column for train DataFrame\n",
        "min_value_train = train['credits_no'].min()\n",
        "max_value_train = train['credits_no'].max()\n",
        "\n",
        "# Normalize 'credits_no' column for train DataFrame\n",
        "train['credits_no'] = (train['credits_no'] - min_value_train) / (max_value_train - min_value_train)\n"
      ]
    },
    {
      "cell_type": "code",
      "execution_count": null,
      "metadata": {
        "colab": {
          "base_uri": "https://localhost:8080/"
        },
        "id": "R22rFKRAmRTu",
        "outputId": "fd9c0e74-fd92-49a6-b4b8-95b9d59fcea0"
      },
      "outputs": [
        {
          "data": {
            "text/plain": [
              "array(['A173', 'A172', 'A174', 'A171'], dtype=object)"
            ]
          },
          "execution_count": 49,
          "metadata": {},
          "output_type": "execute_result"
        }
      ],
      "source": [
        "train['job_type'].unique()"
      ]
    },
    {
      "cell_type": "code",
      "execution_count": null,
      "metadata": {
        "id": "x0k6ithrmT0L"
      },
      "outputs": [],
      "source": [
        "# Define a dictionary to map 'job_type' values to numeric values\n",
        "job = {'A171': 1, 'A172': 2, 'A173': 3, 'A174': 4}\n",
        "\n",
        "# Replace values in 'job_type' column for train DataFrame using the job dictionary\n",
        "train['job_type'] = train['job_type'].replace(job)\n",
        "\n",
        "# Replace values in 'job_type' column for test DataFrame using the job dictionary\n",
        "test['job_type'] = test['job_type'].replace(job)\n"
      ]
    },
    {
      "cell_type": "code",
      "execution_count": null,
      "metadata": {
        "colab": {
          "base_uri": "https://localhost:8080/"
        },
        "id": "EpElEj-WmdX3",
        "outputId": "3c246c5b-9363-4898-9610-8bc9bb3c6e9b"
      },
      "outputs": [
        {
          "data": {
            "text/plain": [
              "0      1\n",
              "505    1\n",
              "506    1\n",
              "508    1\n",
              "509    1\n",
              "      ..\n",
              "666    2\n",
              "460    2\n",
              "110    2\n",
              "106    2\n",
              "368    2\n",
              "Name: liables, Length: 800, dtype: int64"
            ]
          },
          "execution_count": 51,
          "metadata": {},
          "output_type": "execute_result"
        }
      ],
      "source": [
        "train['liables'].sort_values()"
      ]
    },
    {
      "cell_type": "code",
      "execution_count": null,
      "metadata": {
        "id": "wplwhtI3mfR_"
      },
      "outputs": [],
      "source": [
        "# Calculate the minimum and maximum values of 'liables' column for test DataFrame\n",
        "min_value_test = test['liables'].min()\n",
        "max_value_test = test['liables'].max()\n",
        "\n",
        "# Normalize 'liables' column for test DataFrame\n",
        "test['liables'] = (test['liables'] - min_value_test) / (max_value_test - min_value_test)\n",
        "\n",
        "# Calculate the minimum and maximum values of 'liables' column for train DataFrame\n",
        "min_value_train = train['liables'].min()\n",
        "max_value_train = train['liables'].max()\n",
        "\n",
        "# Normalize 'liables' column for train DataFrame\n",
        "train['liables'] = (train['liables'] - min_value_train) / (max_value_train - min_value_train)\n"
      ]
    },
    {
      "cell_type": "code",
      "execution_count": null,
      "metadata": {
        "colab": {
          "base_uri": "https://localhost:8080/"
        },
        "id": "GV5ov_T4okLb",
        "outputId": "720f56ea-b400-4f7e-c27c-aae3a766250c"
      },
      "outputs": [
        {
          "data": {
            "text/plain": [
              "array(['A192', 'A191'], dtype=object)"
            ]
          },
          "execution_count": 53,
          "metadata": {},
          "output_type": "execute_result"
        }
      ],
      "source": [
        "train['telephone'].unique()"
      ]
    },
    {
      "cell_type": "code",
      "execution_count": null,
      "metadata": {
        "id": "mRA_g9DdonRt"
      },
      "outputs": [],
      "source": [
        "# Define a dictionary to map 'telephone' values to numeric values\n",
        "telephone = {'A191': 1, 'A192': 2}\n",
        "\n",
        "# Replace values in 'telephone' column for train DataFrame using the telephone dictionary\n",
        "train['telephone'] = train['telephone'].replace(telephone)\n",
        "\n",
        "# Replace values in 'telephone' column for test DataFrame using the telephone dictionary\n",
        "test['telephone'] = test['telephone'].replace(telephone)\n"
      ]
    },
    {
      "cell_type": "code",
      "execution_count": null,
      "metadata": {
        "colab": {
          "base_uri": "https://localhost:8080/"
        },
        "id": "W7IIOnKYoyUn",
        "outputId": "1eb9c9c9-1402-4463-c867-c58219cb5172"
      },
      "outputs": [
        {
          "data": {
            "text/plain": [
              "array(['A201', 'A202'], dtype=object)"
            ]
          },
          "execution_count": 55,
          "metadata": {},
          "output_type": "execute_result"
        }
      ],
      "source": [
        "train['foreigner'].unique()\n"
      ]
    },
    {
      "cell_type": "code",
      "execution_count": null,
      "metadata": {
        "id": "ykSTlvE7o2FT"
      },
      "outputs": [],
      "source": [
        "# Define a dictionary to map 'foreigner' values to numeric values\n",
        "foreigner = {'A201': 1, 'A202': 2}\n",
        "\n",
        "# Replace values in 'foreigner' column for train DataFrame using the foreigner dictionary\n",
        "train['foreigner'] = train['foreigner'].replace(foreigner)\n",
        "\n",
        "# Replace values in 'foreigner' column for test DataFrame using the foreigner dictionary\n",
        "test['foreigner'] = test['foreigner'].replace(foreigner)\n"
      ]
    },
    {
      "cell_type": "code",
      "execution_count": null,
      "metadata": {
        "colab": {
          "base_uri": "https://localhost:8080/"
        },
        "id": "M4HO022So_ml",
        "outputId": "1e17d935-2fc5-4a46-b6e9-b5bb02f559e5"
      },
      "outputs": [
        {
          "data": {
            "text/plain": [
              "sno                 0\n",
              "acc_info            0\n",
              "duration_month      0\n",
              "credit_history      0\n",
              "purpose             0\n",
              "savings_acc         0\n",
              "employment_st       0\n",
              "poi                 0\n",
              "personal_status     0\n",
              "gurantors           0\n",
              "resident_since      0\n",
              "property_type       0\n",
              "age                 0\n",
              "installment_type    0\n",
              "housing_type        0\n",
              "credits_no          0\n",
              "job_type            0\n",
              "liables             0\n",
              "telephone           0\n",
              "foreigner           0\n",
              "Group_no            0\n",
              "dtype: int64"
            ]
          },
          "execution_count": 57,
          "metadata": {},
          "output_type": "execute_result"
        }
      ],
      "source": [
        "train.isnull().sum()"
      ]
    },
    {
      "cell_type": "code",
      "execution_count": null,
      "metadata": {
        "colab": {
          "base_uri": "https://localhost:8080/"
        },
        "id": "mD_v8VrFpBvB",
        "outputId": "7028ecce-55c5-49d8-ef62-fef3f331ba89"
      },
      "outputs": [
        {
          "data": {
            "text/plain": [
              "sno                 0\n",
              "acc_info            0\n",
              "duration_month      0\n",
              "credit_history      0\n",
              "purpose             0\n",
              "savings_acc         0\n",
              "employment_st       0\n",
              "poi                 0\n",
              "personal_status     0\n",
              "gurantors           0\n",
              "resident_since      0\n",
              "property_type       0\n",
              "age                 0\n",
              "installment_type    0\n",
              "housing_type        0\n",
              "credits_no          0\n",
              "job_type            0\n",
              "liables             0\n",
              "telephone           0\n",
              "foreigner           0\n",
              "dtype: int64"
            ]
          },
          "execution_count": 58,
          "metadata": {},
          "output_type": "execute_result"
        }
      ],
      "source": [
        "test.isnull().sum()"
      ]
    },
    {
      "cell_type": "code",
      "execution_count": null,
      "metadata": {
        "id": "O1UOrXydpEZz"
      },
      "outputs": [],
      "source": [
        "from sklearn.model_selection import train_test_split\n",
        "\n",
        "# Drop the 'Group_no' column to get the features (X)\n",
        "X = train.drop(columns=['Group_no'])\n",
        "\n",
        "# Extract the 'Group_no' column as the target variable (y)\n",
        "y = train['Group_no']\n"
      ]
    },
    {
      "cell_type": "code",
      "execution_count": null,
      "metadata": {
        "id": "5M_-f83KpLvR"
      },
      "outputs": [],
      "source": [
        "X_train, X_test, y_train, y_test = train_test_split(X, y, test_size=0.2, random_state=42)"
      ]
    },
    {
      "cell_type": "code",
      "execution_count": null,
      "metadata": {
        "colab": {
          "base_uri": "https://localhost:8080/"
        },
        "id": "MnZuVzkkpQ5m",
        "outputId": "8ec89d77-139b-48ab-af04-93ed22f52382"
      },
      "outputs": [
        {
          "name": "stdout",
          "output_type": "stream",
          "text": [
            "The accuracy of Logistic Regression is 54.84%\n"
          ]
        },
        {
          "name": "stderr",
          "output_type": "stream",
          "text": [
            "/usr/local/lib/python3.10/dist-packages/sklearn/linear_model/_logistic.py:458: ConvergenceWarning: lbfgs failed to converge (status=1):\n",
            "STOP: TOTAL NO. of ITERATIONS REACHED LIMIT.\n",
            "\n",
            "Increase the number of iterations (max_iter) or scale the data as shown in:\n",
            "    https://scikit-learn.org/stable/modules/preprocessing.html\n",
            "Please also refer to the documentation for alternative solver options:\n",
            "    https://scikit-learn.org/stable/modules/linear_model.html#logistic-regression\n",
            "  n_iter_i = _check_optimize_result(\n"
          ]
        }
      ],
      "source": [
        "from sklearn.linear_model import LogisticRegression\n",
        "from sklearn.metrics import accuracy_score\n",
        "\n",
        "# Initialize and fit the Logistic Regression model\n",
        "logreg = LogisticRegression().fit(X_train, y_train)\n",
        "\n",
        "# Predict on the test set\n",
        "Y_pred = logreg.predict(X_test)\n",
        "\n",
        "# Calculate and round the accuracy for the training set\n",
        "acc_log = round(accuracy_score(y_train, logreg.predict(X_train)) * 100, 2)\n",
        "\n",
        "# Print the accuracy of the Logistic Regression model\n",
        "print(f\"The accuracy of Logistic Regression is {acc_log}%\")\n",
        "\n"
      ]
    },
    {
      "cell_type": "code",
      "execution_count": null,
      "metadata": {
        "colab": {
          "base_uri": "https://localhost:8080/"
        },
        "id": "V4-0Fu33pUUk",
        "outputId": "2128c13f-6237-4046-be8a-bae032b18fb0"
      },
      "outputs": [
        {
          "name": "stdout",
          "output_type": "stream",
          "text": [
            "The accuracy of RandomForestClassifier is 100.0%\n"
          ]
        }
      ],
      "source": [
        "from sklearn.ensemble import RandomForestClassifier\n",
        "from sklearn.metrics import accuracy_score\n",
        "\n",
        "# Initialize the Random Forest Classifier with specified parameters\n",
        "random_forest = RandomForestClassifier(n_estimators=100,\n",
        "                                       oob_score=True,\n",
        "                                       random_state=42)\n",
        "\n",
        "# Fit the Random Forest Classifier on the training data\n",
        "random_forest.fit(X_train, y_train)\n",
        "\n",
        "# Predict on the test set\n",
        "Y_pred = random_forest.predict(X_test)\n",
        "\n",
        "# Calculate and round the accuracy for the training set\n",
        "acc_random_forest = round(accuracy_score(y_train, random_forest.predict(X_train)) * 100, 2)\n",
        "\n",
        "# Print the accuracy of the Random Forest Classifier\n",
        "print(f\"The accuracy of RandomForestClassifier is {acc_random_forest}%\")\n"
      ]
    },
    {
      "cell_type": "code",
      "execution_count": null,
      "metadata": {
        "colab": {
          "base_uri": "https://localhost:8080/"
        },
        "id": "4Rsonu5nqLgE",
        "outputId": "4c9a1c5e-8e63-402c-bbd7-766ab37e53d4"
      },
      "outputs": [
        {
          "name": "stdout",
          "output_type": "stream",
          "text": [
            "The accuracy of Decision Tree Classifier is 100.0%\n"
          ]
        }
      ],
      "source": [
        "from sklearn.tree import DecisionTreeClassifier\n",
        "from sklearn.metrics import accuracy_score\n",
        "\n",
        "# Initialize the Decision Tree Classifier\n",
        "decision_tree = DecisionTreeClassifier()\n",
        "\n",
        "# Fit the Decision Tree Classifier on the training data\n",
        "decision_tree.fit(X_train, y_train)\n",
        "\n",
        "# Predict on the test set\n",
        "Y_pred = decision_tree.predict(X_test)\n",
        "\n",
        "# Calculate and round the accuracy for the training set\n",
        "acc_decision_tree = round(accuracy_score(y_train, decision_tree.predict(X_train)) * 100, 2)\n",
        "\n",
        "# Print the accuracy of the Decision Tree Classifier\n",
        "print(f\"The accuracy of Decision Tree Classifier is {acc_decision_tree}%\")\n",
        "\n"
      ]
    },
    {
      "cell_type": "code",
      "execution_count": null,
      "metadata": {
        "colab": {
          "base_uri": "https://localhost:8080/",
          "height": 581
        },
        "id": "EHrR1GONqVB7",
        "outputId": "49ba6c17-f939-4f61-8555-cfdd4ac21885"
      },
      "outputs": [
        {
          "data": {
            "image/png": "[encoded data removed]",
            "text/plain": [
              "<Figure size 1000x600 with 1 Axes>"
            ]
          },
          "metadata": {},
          "output_type": "display_data"
        }
      ],
      "source": [
        "import matplotlib.pyplot as plt\n",
        "import pandas as pd\n",
        "\n",
        "# Create a DataFrame with model names and scores\n",
        "models = pd.DataFrame({\n",
        "    'Model': ['Logistic Regression', 'Random Forest', 'Decision Tree'],\n",
        "    'Score': [acc_log, acc_random_forest, acc_decision_tree]\n",
        "})\n",
        "\n",
        "# Sort the DataFrame by score in descending order\n",
        "sorted_model = models.sort_values(by='Score', ascending=False)\n",
        "\n",
        "# Create a bar plot\n",
        "plt.figure(figsize=(10, 6))\n",
        "plt.bar(sorted_model['Model'], sorted_model['Score'], color='blue')\n",
        "plt.xlabel('Models')\n",
        "plt.ylabel('Accuracy Score (%)')\n",
        "plt.title('Model Comparison')\n",
        "plt.ylim(0, 100)\n",
        "\n",
        "# Display the plot\n",
        "plt.show()\n"
      ]
    },
    {
      "cell_type": "code",
      "execution_count": null,
      "metadata": {
        "colab": {
          "base_uri": "https://localhost:8080/"
        },
        "id": "5SzgQJKHqZLI",
        "outputId": "715a6e22-6a09-4294-e55d-cf98dfaf6470"
      },
      "outputs": [
        {
          "name": "stdout",
          "output_type": "stream",
          "text": [
            "                  Importance\n",
            "Feature                     \n",
            "duration_month         0.232\n",
            "sno                    0.096\n",
            "age                    0.095\n",
            "poi                    0.094\n",
            "purpose                0.076\n",
            "job_type               0.064\n",
            "credit_history         0.045\n",
            "employment_st          0.042\n",
            "property_type          0.040\n",
            "resident_since         0.040\n",
            "credits_no             0.033\n",
            "savings_acc            0.028\n",
            "telephone              0.025\n",
            "installment_type       0.021\n",
            "acc_info               0.018\n"
          ]
        }
      ],
      "source": [
        "import pandas as pd\n",
        "import numpy as np\n",
        "\n",
        "# Create a DataFrame to store feature importances\n",
        "importances = pd.DataFrame({\n",
        "    'Feature': X_train.columns,\n",
        "    'Importance': np.round(decision_tree.feature_importances_, 3)\n",
        "})\n",
        "\n",
        "# Sort the DataFrame by importance in descending order and set 'feature' as index\n",
        "importances_sorted = importances.sort_values('Importance', ascending=False).set_index('Feature')\n",
        "\n",
        "# Print the top 15 most important features\n",
        "print(importances_sorted.head(15))\n"
      ]
    },
    {
      "cell_type": "code",
      "execution_count": null,
      "metadata": {
        "id": "VwAyKCOIqrsU"
      },
      "outputs": [],
      "source": [
        "# List of columns to include in the feature set\n",
        "columns_to_include = [\n",
        "    'sno', 'acc_info', 'duration_month', 'credit_history', 'purpose',\n",
        "    'savings_acc', 'employment_st', 'poi', 'personal_status', 'gurantors',\n",
        "    'resident_since', 'property_type', 'age', 'installment_type', 'housing_type',\n",
        "    'credits_no', 'job_type', 'liables', 'telephone', 'foreigner'\n",
        "]\n",
        "\n",
        "# Select the specified columns from the test DataFrame to create the feature set\n",
        "x_real = test[columns_to_include]\n"
      ]
    },
    {
      "cell_type": "code",
      "execution_count": null,
      "metadata": {
        "id": "iJvp7NoZq4o3"
      },
      "outputs": [],
      "source": [
        "from sklearn.tree import DecisionTreeClassifier\n",
        "\n",
        "# Initialize the Decision Tree Classifier with a fixed random state for reproducibility\n",
        "decision_tree = DecisionTreeClassifier(random_state=42)\n",
        "\n",
        "# Fit the Decision Tree Classifier using the training data\n",
        "decision_tree.fit(X_train, y_train)\n",
        "\n",
        "# Predict using the Decision Tree Classifier on the real test data\n",
        "Y_pred = decision_tree.predict(x_real)\n"
      ]
    },
    {
      "cell_type": "code",
      "execution_count": 76,
      "metadata": {
        "colab": {
          "base_uri": "https://localhost:8080/"
        },
        "id": "QcC_6RgwrpCe",
        "outputId": "3b61d57b-b8de-40b8-a1cb-083fd3f9ec6a"
      },
      "outputs": [
        {
          "output_type": "stream",
          "name": "stdout",
          "text": [
            "Your submission was successfully saved!\n"
          ]
        }
      ],
      "source": [
        "output = pd.DataFrame({'sno': test['sno'], 'Group_no': Y_pred})\n",
        "\n",
        "# Save the DataFrame as a CSV file\n",
        "output.to_csv('submission.csv', index=False)\n",
        "\n",
        "print(\"Your submission was successfully saved!\")\n",
        "\n"
      ]
    },
    {
      "cell_type": "code",
      "execution_count": null,
      "metadata": {
        "id": "IHpTsKGoc8sF"
      },
      "outputs": [],
      "source": []
    }
  ],
  "metadata": {
    "colab": {
      "provenance": [],
      "toc_visible": true,
      "authorship_tag": "ABX9TyNHjxJyeJqjU2BFlHvrMksP",
      "include_colab_link": true
    },
    "kernelspec": {
      "display_name": "Python 3",
      "name": "python3"
    },
    "language_info": {
      "name": "python"
    }
  },
  "nbformat": 4,
  "nbformat_minor": 0
}